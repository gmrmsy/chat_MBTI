{
 "cells": [
  {
   "cell_type": "code",
   "execution_count": null,
   "metadata": {},
   "outputs": [],
   "source": [
    "import os, json, copy\n",
    "import pandas as pd\n",
    "from tqdm import tqdm"
   ]
  },
  {
   "attachments": {},
   "cell_type": "markdown",
   "metadata": {},
   "source": [
    "### 대화_데이터셋"
   ]
  },
  {
   "cell_type": "code",
   "execution_count": null,
   "metadata": {},
   "outputs": [
    {
     "name": "stderr",
     "output_type": "stream",
     "text": [
      "100%|██████████| 6/6 [00:07<00:00,  1.17s/it]\n"
     ]
    }
   ],
   "source": [
    "path_2 = '주제별 텍스트 일상 대화 데이터/'\n",
    "file_list_2 = os.listdir(path_2)\n",
    "\n",
    "\n",
    "li = []\n",
    "for i in tqdm(range(len(file_list_2))):\n",
    "    folder = file_list_2[i]\n",
    "\n",
    "    path_1 = '주제별 텍스트 일상 대화 데이터/'+folder+'/'\n",
    "    file_list_1 = os.listdir(path_1)\n",
    "\n",
    "    for n in range(len(file_list_1)):\n",
    "        with open(path_1+file_list_1[n], 'r', encoding='utf-8') as file:\n",
    "            temp_data = json.load(file)\n",
    "            li.append(temp_data)"
   ]
  },
  {
   "cell_type": "code",
   "execution_count": null,
   "metadata": {},
   "outputs": [],
   "source": [
    "def preprocessing_list(x):\n",
    "    dial_list = x['info'][0]['annotations']['text'].split('\\n')\n",
    "    temp_list = []; cnt = 0\n",
    "    temp_list = copy.deepcopy(dial_list)\n",
    "    for i in range(len(dial_list)):\n",
    "        i -= cnt\n",
    "        if temp_list[i][0] not in ['1','2','3','4','5'] :\n",
    "            temp_list[i-1] += temp_list[i].lstrip()\n",
    "            temp_list.pop(i); cnt += 1\n",
    "    return temp_list"
   ]
  },
  {
   "cell_type": "code",
   "execution_count": null,
   "metadata": {},
   "outputs": [
    {
     "name": "stderr",
     "output_type": "stream",
     "text": [
      " 13%|█▎        | 3508/26215 [00:51<07:02, 53.72it/s] "
     ]
    },
    {
     "name": "stdout",
     "output_type": "stream",
     "text": [
      "KAKAO_1174_20_set\n",
      "대화번호i:3499 / 문장번호j:22 / 쌍번호k:1\n"
     ]
    },
    {
     "name": "stderr",
     "output_type": "stream",
     "text": [
      " 15%|█▍        | 3876/26215 [01:06<29:50, 12.48it/s]"
     ]
    }
   ],
   "source": [
    "dialog = pd.DataFrame(columns=['Q','Q_intent', 'A', 'A_intent'])\n",
    "\n",
    "for i in tqdm(range(len(li))):\n",
    "    sen = preprocessing_list(li[i])\n",
    "    intent = li[i]['info'][0]['annotations']['lines']\n",
    "    for j in range(len(sen)):\n",
    "        if len(sen) != len(intent):\n",
    "            print(f\"len(sen) != len(intent) : {li[i]['dataset']['name']}\")\n",
    "            break\n",
    "        else :\n",
    "            for k in range(1,6):\n",
    "                if j+k >= len(sen)-1:\n",
    "                    break\n",
    "                elif sen[j][0] == sen[j+k][0]:\n",
    "                    break\n",
    "\n",
    "                if intent[j]['speechAct'] != intent[j+k]['speechAct']:\n",
    "                    # dialog = pd.concat([dialog,pd.DataFrame({'Q' : [sen[j].split(':')[-1].lstrip()], 'Q_intent' : intent[j]['speechAct'], 'A' : [sen[j+k].split(':')[-1].lstrip()], 'A_intent' : intent[j+k]['speechAct']})],ignore_index=True)\n",
    "                    try:\n",
    "                        dialog = pd.concat([dialog,pd.DataFrame({'Q' : [sen[j].split(':')[-1].lstrip()],\n",
    "                                                                 'Q_intent' : intent[j]['speechAct'],\n",
    "                                                                 'A' : [sen[j+k].split(':')[-1].lstrip()],\n",
    "                                                                 'A_intent' : intent[j+k]['speechAct']})], ignore_index=True)\n",
    "                    except :\n",
    "                        print(li[i]['dataset']['name'])\n",
    "                        print(f'대화번호i:{i} / 문장번호j:{j} / 쌍번호k:{k}')\n",
    "dialog"
   ]
  },
  {
   "cell_type": "code",
   "execution_count": null,
   "metadata": {},
   "outputs": [],
   "source": [
    "dialog.to_csv('dataset/dialog_chatbot_source.csv')"
   ]
  },
  {
   "cell_type": "code",
   "execution_count": null,
   "metadata": {},
   "outputs": [],
   "source": [
    "temp_df = pd.read_csv('dataset/dialog_chatbot_source.csv')\n",
    "temp_df.drop(['Unnamed: 0'], axis=1, inplace=True)\n",
    "temp_df.dropna(inplace=True)\n",
    "temp_df.to_csv('dataset/dialog_chatbot.csv')"
   ]
  },
  {
   "attachments": {},
   "cell_type": "markdown",
   "metadata": {},
   "source": [
    "### 감성분류/의도분류 데이터셋"
   ]
  },
  {
   "cell_type": "code",
   "execution_count": null,
   "metadata": {},
   "outputs": [],
   "source": [
    "dialog = pd.read_csv('dataset/dialog_chatbot.csv')"
   ]
  },
  {
   "cell_type": "code",
   "execution_count": null,
   "metadata": {},
   "outputs": [
    {
     "data": {
      "text/html": [
       "<div>\n",
       "<style scoped>\n",
       "    .dataframe tbody tr th:only-of-type {\n",
       "        vertical-align: middle;\n",
       "    }\n",
       "\n",
       "    .dataframe tbody tr th {\n",
       "        vertical-align: top;\n",
       "    }\n",
       "\n",
       "    .dataframe thead th {\n",
       "        text-align: right;\n",
       "    }\n",
       "</style>\n",
       "<table border=\"1\" class=\"dataframe\">\n",
       "  <thead>\n",
       "    <tr style=\"text-align: right;\">\n",
       "      <th></th>\n",
       "      <th>sentence</th>\n",
       "      <th>intent</th>\n",
       "    </tr>\n",
       "  </thead>\n",
       "  <tbody>\n",
       "    <tr>\n",
       "      <th>0</th>\n",
       "      <td>애덜앙 나 너무 배불러서 배 아파</td>\n",
       "      <td>(단언) 진술하기</td>\n",
       "    </tr>\n",
       "    <tr>\n",
       "      <th>1</th>\n",
       "      <td>배 아프면 약국 가서 소화제라도 마시는 거 어때</td>\n",
       "      <td>(지시) 충고/제안하기</td>\n",
       "    </tr>\n",
       "    <tr>\n",
       "      <th>2</th>\n",
       "      <td>배 아프면 약국 가서 소화제라도 마시는 거 어때</td>\n",
       "      <td>(지시) 충고/제안하기</td>\n",
       "    </tr>\n",
       "    <tr>\n",
       "      <th>3</th>\n",
       "      <td>떡볶이랑 튀김이랑 닭껍질튀김이랑 마카롱 먹었어</td>\n",
       "      <td>(단언) 진술하기</td>\n",
       "    </tr>\n",
       "    <tr>\n",
       "      <th>4</th>\n",
       "      <td>하긴 *이 배는 파리보다 작으니까 당연히 그만큼 먹어도 배부르지</td>\n",
       "      <td>(단언) 진술하기</td>\n",
       "    </tr>\n",
       "    <tr>\n",
       "      <th>...</th>\n",
       "      <td>...</td>\n",
       "      <td>...</td>\n",
       "    </tr>\n",
       "    <tr>\n",
       "      <th>2211833</th>\n",
       "      <td>매매로 하시면 주택을 선호하시나요 아파트를 선호하시나요?</td>\n",
       "      <td>(지시) 질문하기</td>\n",
       "    </tr>\n",
       "    <tr>\n",
       "      <th>2211834</th>\n",
       "      <td>처음에는 아파트로 시작하는 게 좋을 거 같아요.</td>\n",
       "      <td>(표현) 사과하기</td>\n",
       "    </tr>\n",
       "    <tr>\n",
       "      <th>2211835</th>\n",
       "      <td>주택 청약을 노리고 있긴 한데 요즘에는 로또 청약이라고 해서 당첨되기가 하늘의 별 ...</td>\n",
       "      <td>(단언) 진술하기</td>\n",
       "    </tr>\n",
       "    <tr>\n",
       "      <th>2211836</th>\n",
       "      <td>저도 그런 거에 관심을 좀 가져봐야겠어요 ㅠ</td>\n",
       "      <td>(단언) 주장하기</td>\n",
       "    </tr>\n",
       "    <tr>\n",
       "      <th>2211837</th>\n",
       "      <td>나중에 결혼하실 때 어디 쪽으로 주택을 마련할 계획이세요?</td>\n",
       "      <td>(지시) 질문하기</td>\n",
       "    </tr>\n",
       "  </tbody>\n",
       "</table>\n",
       "<p>2211838 rows × 2 columns</p>\n",
       "</div>"
      ],
      "text/plain": [
       "                                                  sentence        intent\n",
       "0                                       애덜앙 나 너무 배불러서 배 아파     (단언) 진술하기\n",
       "1                               배 아프면 약국 가서 소화제라도 마시는 거 어때  (지시) 충고/제안하기\n",
       "2                               배 아프면 약국 가서 소화제라도 마시는 거 어때  (지시) 충고/제안하기\n",
       "3                                떡볶이랑 튀김이랑 닭껍질튀김이랑 마카롱 먹었어     (단언) 진술하기\n",
       "4                      하긴 *이 배는 파리보다 작으니까 당연히 그만큼 먹어도 배부르지     (단언) 진술하기\n",
       "...                                                    ...           ...\n",
       "2211833                    매매로 하시면 주택을 선호하시나요 아파트를 선호하시나요?     (지시) 질문하기\n",
       "2211834                         처음에는 아파트로 시작하는 게 좋을 거 같아요.     (표현) 사과하기\n",
       "2211835  주택 청약을 노리고 있긴 한데 요즘에는 로또 청약이라고 해서 당첨되기가 하늘의 별 ...     (단언) 진술하기\n",
       "2211836                           저도 그런 거에 관심을 좀 가져봐야겠어요 ㅠ     (단언) 주장하기\n",
       "2211837                   나중에 결혼하실 때 어디 쪽으로 주택을 마련할 계획이세요?     (지시) 질문하기\n",
       "\n",
       "[2211838 rows x 2 columns]"
      ]
     },
     "metadata": {},
     "output_type": "display_data"
    }
   ],
   "source": [
    "intent_model = pd.DataFrame(columns=['sentence','intent'])\n",
    "Q_temp_sen = pd.DataFrame()\n",
    "Q_temp_int = pd.DataFrame()\n",
    "Q_temp_sen['sentence'] = dialog['Q']\n",
    "Q_temp_int['intent'] = dialog['Q_intent']\n",
    "Q_temp = pd.concat([Q_temp_sen,Q_temp_int], axis=1)\n",
    "\n",
    "A_temp_sen = pd.DataFrame()\n",
    "A_temp_int = pd.DataFrame()\n",
    "A_temp_sen['sentence'] = dialog['A']\n",
    "A_temp_int['intent'] = dialog['A_intent']\n",
    "A_temp = pd.concat([A_temp_sen,A_temp_int], axis=1)\n",
    "\n",
    "intent_model = pd.concat([Q_temp,A_temp], ignore_index=True)\n",
    "intent_model.drop(intent_model.loc[intent_model['intent']=='N/A'].index, axis=0, inplace=True)\n",
    "intent_model"
   ]
  },
  {
   "cell_type": "code",
   "execution_count": null,
   "metadata": {},
   "outputs": [],
   "source": [
    "intent_model.to_csv('dataset/temp.csv')"
   ]
  },
  {
   "cell_type": "code",
   "execution_count": null,
   "metadata": {},
   "outputs": [],
   "source": [
    "df = pd.read_csv('dataset/temp.csv')\n",
    "df.drop(['Unnamed: 0'], axis=1, inplace=True)    # 불필요 column 제거\n",
    "df.dropna(inplace=True)    # 결측치 제거\n",
    "# df.drop(df[df.duplicated()])\n",
    "df.drop(df[df.duplicated()].index, axis=0, inplace=True)    # 중복값 제거\n",
    "df.drop(df[df['intent'] == '(언약) 위협하기'].index, axis=0, inplace=True)    # 불필요 label 제거\n",
    "df.reset_index(inplace=True)    # 인덱스 초기화\n",
    "df.drop(['index'], axis=1, inplace=True)    # 불필요 column 제거"
   ]
  },
  {
   "cell_type": "code",
   "execution_count": null,
   "metadata": {},
   "outputs": [
    {
     "data": {
      "text/html": [
       "<div>\n",
       "<style scoped>\n",
       "    .dataframe tbody tr th:only-of-type {\n",
       "        vertical-align: middle;\n",
       "    }\n",
       "\n",
       "    .dataframe tbody tr th {\n",
       "        vertical-align: top;\n",
       "    }\n",
       "\n",
       "    .dataframe thead th {\n",
       "        text-align: right;\n",
       "    }\n",
       "</style>\n",
       "<table border=\"1\" class=\"dataframe\">\n",
       "  <thead>\n",
       "    <tr style=\"text-align: right;\">\n",
       "      <th></th>\n",
       "      <th>sentence</th>\n",
       "      <th>intent</th>\n",
       "    </tr>\n",
       "  </thead>\n",
       "  <tbody>\n",
       "    <tr>\n",
       "      <th>0</th>\n",
       "      <td>애덜앙 나 너무 배불러서 배 아파</td>\n",
       "      <td>(단언) 진술하기</td>\n",
       "    </tr>\n",
       "    <tr>\n",
       "      <th>1</th>\n",
       "      <td>배 아프면 약국 가서 소화제라도 마시는 거 어때</td>\n",
       "      <td>(지시) 충고/제안하기</td>\n",
       "    </tr>\n",
       "    <tr>\n",
       "      <th>2</th>\n",
       "      <td>떡볶이랑 튀김이랑 닭껍질튀김이랑 마카롱 먹었어</td>\n",
       "      <td>(단언) 진술하기</td>\n",
       "    </tr>\n",
       "    <tr>\n",
       "      <th>3</th>\n",
       "      <td>하긴 *이 배는 파리보다 작으니까 당연히 그만큼 먹어도 배부르지</td>\n",
       "      <td>(단언) 진술하기</td>\n",
       "    </tr>\n",
       "    <tr>\n",
       "      <th>4</th>\n",
       "      <td>아닌데 그냥 많이 먹은 거 같은데</td>\n",
       "      <td>(단언) 주장하기</td>\n",
       "    </tr>\n",
       "    <tr>\n",
       "      <th>...</th>\n",
       "      <td>...</td>\n",
       "      <td>...</td>\n",
       "    </tr>\n",
       "    <tr>\n",
       "      <th>1159979</th>\n",
       "      <td>일단 전세로 생각하고 있습니다</td>\n",
       "      <td>(단언) 주장하기</td>\n",
       "    </tr>\n",
       "    <tr>\n",
       "      <th>1159980</th>\n",
       "      <td>전세로 살다가 형편 좀 괜찮아지면 집을 사는 걸로 생각 중입니다</td>\n",
       "      <td>(단언) 주장하기</td>\n",
       "    </tr>\n",
       "    <tr>\n",
       "      <th>1159981</th>\n",
       "      <td>요즘 전세 가격도 만만치 않다고 하더라고요.</td>\n",
       "      <td>(단언) 주장하기</td>\n",
       "    </tr>\n",
       "    <tr>\n",
       "      <th>1159982</th>\n",
       "      <td>처음에는 아파트로 시작하는 게 좋을 거 같아요.</td>\n",
       "      <td>(단언) 진술하기</td>\n",
       "    </tr>\n",
       "    <tr>\n",
       "      <th>1159983</th>\n",
       "      <td>나중에 결혼하실 때 어디 쪽으로 주택을 마련할 계획이세요?</td>\n",
       "      <td>(지시) 질문하기</td>\n",
       "    </tr>\n",
       "  </tbody>\n",
       "</table>\n",
       "<p>1159984 rows × 2 columns</p>\n",
       "</div>"
      ],
      "text/plain": [
       "                                    sentence        intent\n",
       "0                         애덜앙 나 너무 배불러서 배 아파     (단언) 진술하기\n",
       "1                 배 아프면 약국 가서 소화제라도 마시는 거 어때  (지시) 충고/제안하기\n",
       "2                  떡볶이랑 튀김이랑 닭껍질튀김이랑 마카롱 먹었어     (단언) 진술하기\n",
       "3        하긴 *이 배는 파리보다 작으니까 당연히 그만큼 먹어도 배부르지     (단언) 진술하기\n",
       "4                         아닌데 그냥 많이 먹은 거 같은데     (단언) 주장하기\n",
       "...                                      ...           ...\n",
       "1159979                     일단 전세로 생각하고 있습니다     (단언) 주장하기\n",
       "1159980  전세로 살다가 형편 좀 괜찮아지면 집을 사는 걸로 생각 중입니다     (단언) 주장하기\n",
       "1159981             요즘 전세 가격도 만만치 않다고 하더라고요.     (단언) 주장하기\n",
       "1159982           처음에는 아파트로 시작하는 게 좋을 거 같아요.     (단언) 진술하기\n",
       "1159983     나중에 결혼하실 때 어디 쪽으로 주택을 마련할 계획이세요?     (지시) 질문하기\n",
       "\n",
       "[1159984 rows x 2 columns]"
      ]
     },
     "metadata": {},
     "output_type": "display_data"
    }
   ],
   "source": [
    "df"
   ]
  },
  {
   "cell_type": "code",
   "execution_count": null,
   "metadata": {},
   "outputs": [],
   "source": [
    "df.to_csv('intent_model_dataset.csv')"
   ]
  },
  {
   "cell_type": "code",
   "execution_count": null,
   "metadata": {},
   "outputs": [
    {
     "data": {
      "text/html": [
       "<div>\n",
       "<style scoped>\n",
       "    .dataframe tbody tr th:only-of-type {\n",
       "        vertical-align: middle;\n",
       "    }\n",
       "\n",
       "    .dataframe tbody tr th {\n",
       "        vertical-align: top;\n",
       "    }\n",
       "\n",
       "    .dataframe thead th {\n",
       "        text-align: right;\n",
       "    }\n",
       "</style>\n",
       "<table border=\"1\" class=\"dataframe\">\n",
       "  <thead>\n",
       "    <tr style=\"text-align: right;\">\n",
       "      <th></th>\n",
       "      <th>sentence</th>\n",
       "      <th>intent</th>\n",
       "    </tr>\n",
       "  </thead>\n",
       "  <tbody>\n",
       "    <tr>\n",
       "      <th>0</th>\n",
       "      <td>애덜앙 나 너무 배불러서 배 아파</td>\n",
       "      <td>(단언) 진술하기</td>\n",
       "    </tr>\n",
       "    <tr>\n",
       "      <th>1</th>\n",
       "      <td>배 아프면 약국 가서 소화제라도 마시는 거 어때</td>\n",
       "      <td>(지시) 충고/제안하기</td>\n",
       "    </tr>\n",
       "    <tr>\n",
       "      <th>2</th>\n",
       "      <td>떡볶이랑 튀김이랑 닭껍질튀김이랑 마카롱 먹었어</td>\n",
       "      <td>(단언) 진술하기</td>\n",
       "    </tr>\n",
       "    <tr>\n",
       "      <th>3</th>\n",
       "      <td>하긴 *이 배는 파리보다 작으니까 당연히 그만큼 먹어도 배부르지</td>\n",
       "      <td>(단언) 진술하기</td>\n",
       "    </tr>\n",
       "    <tr>\n",
       "      <th>4</th>\n",
       "      <td>아닌데 그냥 많이 먹은 거 같은데</td>\n",
       "      <td>(단언) 주장하기</td>\n",
       "    </tr>\n",
       "    <tr>\n",
       "      <th>...</th>\n",
       "      <td>...</td>\n",
       "      <td>...</td>\n",
       "    </tr>\n",
       "    <tr>\n",
       "      <th>1159979</th>\n",
       "      <td>일단 전세로 생각하고 있습니다</td>\n",
       "      <td>(단언) 주장하기</td>\n",
       "    </tr>\n",
       "    <tr>\n",
       "      <th>1159980</th>\n",
       "      <td>전세로 살다가 형편 좀 괜찮아지면 집을 사는 걸로 생각 중입니다</td>\n",
       "      <td>(단언) 주장하기</td>\n",
       "    </tr>\n",
       "    <tr>\n",
       "      <th>1159981</th>\n",
       "      <td>요즘 전세 가격도 만만치 않다고 하더라고요.</td>\n",
       "      <td>(단언) 주장하기</td>\n",
       "    </tr>\n",
       "    <tr>\n",
       "      <th>1159982</th>\n",
       "      <td>처음에는 아파트로 시작하는 게 좋을 거 같아요.</td>\n",
       "      <td>(단언) 진술하기</td>\n",
       "    </tr>\n",
       "    <tr>\n",
       "      <th>1159983</th>\n",
       "      <td>나중에 결혼하실 때 어디 쪽으로 주택을 마련할 계획이세요?</td>\n",
       "      <td>(지시) 질문하기</td>\n",
       "    </tr>\n",
       "  </tbody>\n",
       "</table>\n",
       "<p>1159984 rows × 2 columns</p>\n",
       "</div>"
      ],
      "text/plain": [
       "                                    sentence        intent\n",
       "0                         애덜앙 나 너무 배불러서 배 아파     (단언) 진술하기\n",
       "1                 배 아프면 약국 가서 소화제라도 마시는 거 어때  (지시) 충고/제안하기\n",
       "2                  떡볶이랑 튀김이랑 닭껍질튀김이랑 마카롱 먹었어     (단언) 진술하기\n",
       "3        하긴 *이 배는 파리보다 작으니까 당연히 그만큼 먹어도 배부르지     (단언) 진술하기\n",
       "4                         아닌데 그냥 많이 먹은 거 같은데     (단언) 주장하기\n",
       "...                                      ...           ...\n",
       "1159979                     일단 전세로 생각하고 있습니다     (단언) 주장하기\n",
       "1159980  전세로 살다가 형편 좀 괜찮아지면 집을 사는 걸로 생각 중입니다     (단언) 주장하기\n",
       "1159981             요즘 전세 가격도 만만치 않다고 하더라고요.     (단언) 주장하기\n",
       "1159982           처음에는 아파트로 시작하는 게 좋을 거 같아요.     (단언) 진술하기\n",
       "1159983     나중에 결혼하실 때 어디 쪽으로 주택을 마련할 계획이세요?     (지시) 질문하기\n",
       "\n",
       "[1159984 rows x 2 columns]"
      ]
     },
     "metadata": {},
     "output_type": "display_data"
    }
   ],
   "source": [
    "df"
   ]
  }
 ],
 "metadata": {
  "kernelspec": {
   "display_name": "Python 3",
   "language": "python",
   "name": "python3"
  },
  "language_info": {
   "codemirror_mode": {
    "name": "ipython",
    "version": 3
   },
   "file_extension": ".py",
   "mimetype": "text/x-python",
   "name": "python",
   "nbconvert_exporter": "python",
   "pygments_lexer": "ipython3",
   "version": "3.10.10"
  },
  "orig_nbformat": 4
 },
 "nbformat": 4,
 "nbformat_minor": 2
}
