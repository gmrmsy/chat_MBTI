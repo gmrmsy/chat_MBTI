{
  "cells": [
    {
      "cell_type": "code",
      "execution_count": null,
      "metadata": {
        "colab": {
          "base_uri": "https://localhost:8080/"
        },
        "id": "uo-HAJ98i4gj",
        "outputId": "e0d13b06-a287-4254-c7a7-8ba87ff2a85d"
      },
      "outputs": [
        {
          "output_type": "stream",
          "name": "stdout",
          "text": [
            "Requirement already satisfied: transformers in /usr/local/lib/python3.10/dist-packages (4.30.2)\n",
            "Requirement already satisfied: filelock in /usr/local/lib/python3.10/dist-packages (from transformers) (3.12.2)\n",
            "Requirement already satisfied: huggingface-hub<1.0,>=0.14.1 in /usr/local/lib/python3.10/dist-packages (from transformers) (0.16.4)\n",
            "Requirement already satisfied: numpy>=1.17 in /usr/local/lib/python3.10/dist-packages (from transformers) (1.22.4)\n",
            "Requirement already satisfied: packaging>=20.0 in /usr/local/lib/python3.10/dist-packages (from transformers) (23.1)\n",
            "Requirement already satisfied: pyyaml>=5.1 in /usr/local/lib/python3.10/dist-packages (from transformers) (6.0)\n",
            "Requirement already satisfied: regex!=2019.12.17 in /usr/local/lib/python3.10/dist-packages (from transformers) (2022.10.31)\n",
            "Requirement already satisfied: requests in /usr/local/lib/python3.10/dist-packages (from transformers) (2.27.1)\n",
            "Requirement already satisfied: tokenizers!=0.11.3,<0.14,>=0.11.1 in /usr/local/lib/python3.10/dist-packages (from transformers) (0.13.3)\n",
            "Requirement already satisfied: safetensors>=0.3.1 in /usr/local/lib/python3.10/dist-packages (from transformers) (0.3.1)\n",
            "Requirement already satisfied: tqdm>=4.27 in /usr/local/lib/python3.10/dist-packages (from transformers) (4.65.0)\n",
            "Requirement already satisfied: fsspec in /usr/local/lib/python3.10/dist-packages (from huggingface-hub<1.0,>=0.14.1->transformers) (2023.6.0)\n",
            "Requirement already satisfied: typing-extensions>=3.7.4.3 in /usr/local/lib/python3.10/dist-packages (from huggingface-hub<1.0,>=0.14.1->transformers) (4.7.1)\n",
            "Requirement already satisfied: urllib3<1.27,>=1.21.1 in /usr/local/lib/python3.10/dist-packages (from requests->transformers) (1.26.16)\n",
            "Requirement already satisfied: certifi>=2017.4.17 in /usr/local/lib/python3.10/dist-packages (from requests->transformers) (2023.5.7)\n",
            "Requirement already satisfied: charset-normalizer~=2.0.0 in /usr/local/lib/python3.10/dist-packages (from requests->transformers) (2.0.12)\n",
            "Requirement already satisfied: idna<4,>=2.5 in /usr/local/lib/python3.10/dist-packages (from requests->transformers) (3.4)\n"
          ]
        }
      ],
      "source": [
        "!pip install transformers"
      ]
    },
    {
      "cell_type": "code",
      "execution_count": null,
      "metadata": {
        "colab": {
          "base_uri": "https://localhost:8080/"
        },
        "id": "2W9QxaRcivIy",
        "outputId": "badc4ec8-62d1-4d62-e57d-90ae46c86357"
      },
      "outputs": [
        {
          "output_type": "stream",
          "name": "stdout",
          "text": [
            "Mounted at /content/Drive/\n"
          ]
        }
      ],
      "source": [
        "import os, copy\n",
        "import pandas as pd\n",
        "import numpy as np\n",
        "from tqdm import tqdm\n",
        "import tensorflow as tf\n",
        "from transformers import BertTokenizer, TFBertForSequenceClassification\n",
        "import warnings\n",
        "from google.colab import drive\n",
        "\n",
        "warnings.filterwarnings('ignore')\n",
        "drive.mount(\"/content/Drive/\", force_remount=True)"
      ]
    },
    {
      "cell_type": "code",
      "execution_count": null,
      "metadata": {
        "colab": {
          "base_uri": "https://localhost:8080/",
          "height": 424
        },
        "id": "iHR5KFRKivIz",
        "outputId": "5bc9df10-96b0-4071-d187-a656ad645d13"
      },
      "outputs": [
        {
          "output_type": "execute_result",
          "data": {
            "text/plain": [
              "                           sentence        intent\n",
              "0                애덜앙 나 너무 배불러서 배 아파     (단언) 진술하기\n",
              "1        배 아프면 약국 가서 소화제라도 마시는 거 어때  (지시) 충고/제안하기\n",
              "2         떡볶이랑 튀김이랑 닭껍질튀김이랑 마카롱 먹었어     (단언) 진술하기\n",
              "3                아닌데 그냥 많이 먹은 거 같은데            부정\n",
              "4          그냥 나 뭐 사주기 싫어서 그런 거 같은데.     (단언) 주장하기\n",
              "...                             ...           ...\n",
              "1142022        매물 위치와 평수를 알 수 있을까요?     (지시) 질문하기\n",
              "1142023                 잘 진행되고 있나요?     (지시) 질문하기\n",
              "1142024                   네, 안녕하세요?     (표현) 인사하기\n",
              "1142025                    네~ 안녕하세요     (표현) 인사하기\n",
              "1142026        오늘 면접 보러 오시는 분들 맞지요?     (지시) 질문하기\n",
              "\n",
              "[1142027 rows x 2 columns]"
            ],
            "text/html": [
              "\n",
              "\n",
              "  <div id=\"df-f1683f72-5b51-427f-a6a2-7af9f7070459\">\n",
              "    <div class=\"colab-df-container\">\n",
              "      <div>\n",
              "<style scoped>\n",
              "    .dataframe tbody tr th:only-of-type {\n",
              "        vertical-align: middle;\n",
              "    }\n",
              "\n",
              "    .dataframe tbody tr th {\n",
              "        vertical-align: top;\n",
              "    }\n",
              "\n",
              "    .dataframe thead th {\n",
              "        text-align: right;\n",
              "    }\n",
              "</style>\n",
              "<table border=\"1\" class=\"dataframe\">\n",
              "  <thead>\n",
              "    <tr style=\"text-align: right;\">\n",
              "      <th></th>\n",
              "      <th>sentence</th>\n",
              "      <th>intent</th>\n",
              "    </tr>\n",
              "  </thead>\n",
              "  <tbody>\n",
              "    <tr>\n",
              "      <th>0</th>\n",
              "      <td>애덜앙 나 너무 배불러서 배 아파</td>\n",
              "      <td>(단언) 진술하기</td>\n",
              "    </tr>\n",
              "    <tr>\n",
              "      <th>1</th>\n",
              "      <td>배 아프면 약국 가서 소화제라도 마시는 거 어때</td>\n",
              "      <td>(지시) 충고/제안하기</td>\n",
              "    </tr>\n",
              "    <tr>\n",
              "      <th>2</th>\n",
              "      <td>떡볶이랑 튀김이랑 닭껍질튀김이랑 마카롱 먹었어</td>\n",
              "      <td>(단언) 진술하기</td>\n",
              "    </tr>\n",
              "    <tr>\n",
              "      <th>3</th>\n",
              "      <td>아닌데 그냥 많이 먹은 거 같은데</td>\n",
              "      <td>부정</td>\n",
              "    </tr>\n",
              "    <tr>\n",
              "      <th>4</th>\n",
              "      <td>그냥 나 뭐 사주기 싫어서 그런 거 같은데.</td>\n",
              "      <td>(단언) 주장하기</td>\n",
              "    </tr>\n",
              "    <tr>\n",
              "      <th>...</th>\n",
              "      <td>...</td>\n",
              "      <td>...</td>\n",
              "    </tr>\n",
              "    <tr>\n",
              "      <th>1142022</th>\n",
              "      <td>매물 위치와 평수를 알 수 있을까요?</td>\n",
              "      <td>(지시) 질문하기</td>\n",
              "    </tr>\n",
              "    <tr>\n",
              "      <th>1142023</th>\n",
              "      <td>잘 진행되고 있나요?</td>\n",
              "      <td>(지시) 질문하기</td>\n",
              "    </tr>\n",
              "    <tr>\n",
              "      <th>1142024</th>\n",
              "      <td>네, 안녕하세요?</td>\n",
              "      <td>(표현) 인사하기</td>\n",
              "    </tr>\n",
              "    <tr>\n",
              "      <th>1142025</th>\n",
              "      <td>네~ 안녕하세요</td>\n",
              "      <td>(표현) 인사하기</td>\n",
              "    </tr>\n",
              "    <tr>\n",
              "      <th>1142026</th>\n",
              "      <td>오늘 면접 보러 오시는 분들 맞지요?</td>\n",
              "      <td>(지시) 질문하기</td>\n",
              "    </tr>\n",
              "  </tbody>\n",
              "</table>\n",
              "<p>1142027 rows × 2 columns</p>\n",
              "</div>\n",
              "      <button class=\"colab-df-convert\" onclick=\"convertToInteractive('df-f1683f72-5b51-427f-a6a2-7af9f7070459')\"\n",
              "              title=\"Convert this dataframe to an interactive table.\"\n",
              "              style=\"display:none;\">\n",
              "\n",
              "  <svg xmlns=\"http://www.w3.org/2000/svg\" height=\"24px\"viewBox=\"0 0 24 24\"\n",
              "       width=\"24px\">\n",
              "    <path d=\"M0 0h24v24H0V0z\" fill=\"none\"/>\n",
              "    <path d=\"M18.56 5.44l.94 2.06.94-2.06 2.06-.94-2.06-.94-.94-2.06-.94 2.06-2.06.94zm-11 1L8.5 8.5l.94-2.06 2.06-.94-2.06-.94L8.5 2.5l-.94 2.06-2.06.94zm10 10l.94 2.06.94-2.06 2.06-.94-2.06-.94-.94-2.06-.94 2.06-2.06.94z\"/><path d=\"M17.41 7.96l-1.37-1.37c-.4-.4-.92-.59-1.43-.59-.52 0-1.04.2-1.43.59L10.3 9.45l-7.72 7.72c-.78.78-.78 2.05 0 2.83L4 21.41c.39.39.9.59 1.41.59.51 0 1.02-.2 1.41-.59l7.78-7.78 2.81-2.81c.8-.78.8-2.07 0-2.86zM5.41 20L4 18.59l7.72-7.72 1.47 1.35L5.41 20z\"/>\n",
              "  </svg>\n",
              "      </button>\n",
              "\n",
              "\n",
              "\n",
              "    <div id=\"df-78b45598-f8a2-40f5-97b2-b75149cda953\">\n",
              "      <button class=\"colab-df-quickchart\" onclick=\"quickchart('df-78b45598-f8a2-40f5-97b2-b75149cda953')\"\n",
              "              title=\"Suggest charts.\"\n",
              "              style=\"display:none;\">\n",
              "\n",
              "<svg xmlns=\"http://www.w3.org/2000/svg\" height=\"24px\"viewBox=\"0 0 24 24\"\n",
              "     width=\"24px\">\n",
              "    <g>\n",
              "        <path d=\"M19 3H5c-1.1 0-2 .9-2 2v14c0 1.1.9 2 2 2h14c1.1 0 2-.9 2-2V5c0-1.1-.9-2-2-2zM9 17H7v-7h2v7zm4 0h-2V7h2v10zm4 0h-2v-4h2v4z\"/>\n",
              "    </g>\n",
              "</svg>\n",
              "      </button>\n",
              "    </div>\n",
              "\n",
              "<style>\n",
              "  .colab-df-quickchart {\n",
              "    background-color: #E8F0FE;\n",
              "    border: none;\n",
              "    border-radius: 50%;\n",
              "    cursor: pointer;\n",
              "    display: none;\n",
              "    fill: #1967D2;\n",
              "    height: 32px;\n",
              "    padding: 0 0 0 0;\n",
              "    width: 32px;\n",
              "  }\n",
              "\n",
              "  .colab-df-quickchart:hover {\n",
              "    background-color: #E2EBFA;\n",
              "    box-shadow: 0px 1px 2px rgba(60, 64, 67, 0.3), 0px 1px 3px 1px rgba(60, 64, 67, 0.15);\n",
              "    fill: #174EA6;\n",
              "  }\n",
              "\n",
              "  [theme=dark] .colab-df-quickchart {\n",
              "    background-color: #3B4455;\n",
              "    fill: #D2E3FC;\n",
              "  }\n",
              "\n",
              "  [theme=dark] .colab-df-quickchart:hover {\n",
              "    background-color: #434B5C;\n",
              "    box-shadow: 0px 1px 3px 1px rgba(0, 0, 0, 0.15);\n",
              "    filter: drop-shadow(0px 1px 2px rgba(0, 0, 0, 0.3));\n",
              "    fill: #FFFFFF;\n",
              "  }\n",
              "</style>\n",
              "\n",
              "    <script>\n",
              "      async function quickchart(key) {\n",
              "        const containerElement = document.querySelector('#' + key);\n",
              "        const charts = await google.colab.kernel.invokeFunction(\n",
              "            'suggestCharts', [key], {});\n",
              "      }\n",
              "    </script>\n",
              "\n",
              "      <script>\n",
              "\n",
              "function displayQuickchartButton(domScope) {\n",
              "  let quickchartButtonEl =\n",
              "    domScope.querySelector('#df-78b45598-f8a2-40f5-97b2-b75149cda953 button.colab-df-quickchart');\n",
              "  quickchartButtonEl.style.display =\n",
              "    google.colab.kernel.accessAllowed ? 'block' : 'none';\n",
              "}\n",
              "\n",
              "        displayQuickchartButton(document);\n",
              "      </script>\n",
              "      <style>\n",
              "    .colab-df-container {\n",
              "      display:flex;\n",
              "      flex-wrap:wrap;\n",
              "      gap: 12px;\n",
              "    }\n",
              "\n",
              "    .colab-df-convert {\n",
              "      background-color: #E8F0FE;\n",
              "      border: none;\n",
              "      border-radius: 50%;\n",
              "      cursor: pointer;\n",
              "      display: none;\n",
              "      fill: #1967D2;\n",
              "      height: 32px;\n",
              "      padding: 0 0 0 0;\n",
              "      width: 32px;\n",
              "    }\n",
              "\n",
              "    .colab-df-convert:hover {\n",
              "      background-color: #E2EBFA;\n",
              "      box-shadow: 0px 1px 2px rgba(60, 64, 67, 0.3), 0px 1px 3px 1px rgba(60, 64, 67, 0.15);\n",
              "      fill: #174EA6;\n",
              "    }\n",
              "\n",
              "    [theme=dark] .colab-df-convert {\n",
              "      background-color: #3B4455;\n",
              "      fill: #D2E3FC;\n",
              "    }\n",
              "\n",
              "    [theme=dark] .colab-df-convert:hover {\n",
              "      background-color: #434B5C;\n",
              "      box-shadow: 0px 1px 3px 1px rgba(0, 0, 0, 0.15);\n",
              "      filter: drop-shadow(0px 1px 2px rgba(0, 0, 0, 0.3));\n",
              "      fill: #FFFFFF;\n",
              "    }\n",
              "  </style>\n",
              "\n",
              "      <script>\n",
              "        const buttonEl =\n",
              "          document.querySelector('#df-f1683f72-5b51-427f-a6a2-7af9f7070459 button.colab-df-convert');\n",
              "        buttonEl.style.display =\n",
              "          google.colab.kernel.accessAllowed ? 'block' : 'none';\n",
              "\n",
              "        async function convertToInteractive(key) {\n",
              "          const element = document.querySelector('#df-f1683f72-5b51-427f-a6a2-7af9f7070459');\n",
              "          const dataTable =\n",
              "            await google.colab.kernel.invokeFunction('convertToInteractive',\n",
              "                                                     [key], {});\n",
              "          if (!dataTable) return;\n",
              "\n",
              "          const docLinkHtml = 'Like what you see? Visit the ' +\n",
              "            '<a target=\"_blank\" href=https://colab.research.google.com/notebooks/data_table.ipynb>data table notebook</a>'\n",
              "            + ' to learn more about interactive tables.';\n",
              "          element.innerHTML = '';\n",
              "          dataTable['output_type'] = 'display_data';\n",
              "          await google.colab.output.renderOutput(dataTable, element);\n",
              "          const docLink = document.createElement('div');\n",
              "          docLink.innerHTML = docLinkHtml;\n",
              "          element.appendChild(docLink);\n",
              "        }\n",
              "      </script>\n",
              "    </div>\n",
              "  </div>\n"
            ]
          },
          "metadata": {},
          "execution_count": 87
        }
      ],
      "source": [
        "origin_df = pd.read_csv('/content/Drive/MyDrive/NP_classifier/mod_intent_model_dataset.csv')\n",
        "df = copy.deepcopy(origin_df)\n",
        "df.drop(['Unnamed: 0'], axis=1, inplace=True)\n",
        "df.drop(df.loc[df['sentence'].str.contains('\\*')].index, axis=0, inplace=True)\n",
        "df = df.loc[df['sentence'].str.len() <= 100]\n",
        "df.reset_index(inplace=True, drop=True)\n",
        "\n",
        "\n",
        "df.loc[(df['sentence'].str.contains('응') & df['sentence'].str.contains('좋아')), 'intent'] = '긍정'\n",
        "df.loc[(df['sentence'].str.contains('응') & df['sentence'].str.contains('맞아')), 'intent'] = '긍정'\n",
        "\n",
        "df.loc[(df['sentence'].str.contains('아니') & df['sentence'].str.contains('싫어')), 'intent'] = '부정'\n",
        "\n",
        "\n",
        "fst_P_key = ['맞어','맞아','마자','마쟈','마저','맞지','응 ','응!','응응 ','웅 ','웅웅 ','웅!','좋아 ','좋다']\n",
        "fst_N_key = ['아뇨','아니','아닌데','아녀','아니여','아냐','싫어 ','싫어,','싫어!','시러','싫은데','안돼','안되지','안된','별로야']\n",
        "\n",
        "for i in fst_P_key:\n",
        "    df.loc[(df['sentence'].str.startswith(i)), 'intent'] = '긍정'\n",
        "for i in fst_N_key:\n",
        "    df.loc[(df['sentence'].str.startswith(i)), 'intent'] = '부정'\n",
        "\n",
        "df"
      ]
    },
    {
      "cell_type": "code",
      "execution_count": null,
      "metadata": {
        "colab": {
          "base_uri": "https://localhost:8080/"
        },
        "id": "9nY8KnI0c-ZC",
        "outputId": "d2ecdebe-344e-4dda-8624-2afcdf5dde7e"
      },
      "outputs": [
        {
          "output_type": "stream",
          "name": "stdout",
          "text": [
            "(단언) 진술하기 308107\n",
            "(지시) 충고/제안하기 32575\n",
            "부정 18653\n",
            "(단언) 주장하기 402871\n",
            "(지시) 질문하기 267339\n",
            "(지시) 부탁하기 4733\n",
            "(단언) 반박하기 2758\n",
            "(표현) 감사하기 1506\n",
            "(표현) 사과하기 532\n",
            "긍정 70620\n",
            "(지시) 명령/요구하기 3647\n",
            "턴토크 사인(관습적 반응) 3834\n",
            "(언약) 약속하기(제3자와)/(개인적 수준) 13057\n",
            "(표현) 긍정감정 표현하기 4998\n",
            "(표현) 부정감정 표현하기 5867\n",
            "(언약) 거절하기 372\n",
            "(선언/위임하기) 97\n",
            "(표현) 인사하기 461\n"
          ]
        }
      ],
      "source": [
        "asdf = list(df['intent'].unique())\n",
        "for i in asdf :\n",
        "    print(i,df.loc[df['intent']==i,'intent'].count())"
      ]
    },
    {
      "cell_type": "code",
      "execution_count": null,
      "metadata": {
        "id": "1yyz25d2c-ZC"
      },
      "outputs": [],
      "source": [
        "tokenizer = BertTokenizer.from_pretrained(\"klue/bert-base\")"
      ]
    },
    {
      "cell_type": "code",
      "execution_count": null,
      "metadata": {
        "colab": {
          "base_uri": "https://localhost:8080/",
          "height": 54
        },
        "id": "JVyfDGnbc-ZC",
        "outputId": "3187b218-a06c-4489-fc94-bae989ffa696"
      },
      "outputs": [
        {
          "output_type": "stream",
          "name": "stdout",
          "text": [
            "[1, 2209, 13, 1339, 1181, 950, 1145, 1144, 28, 1180, 1203, 1206, 662, 1166, 1255, 1205]\n"
          ]
        },
        {
          "output_type": "execute_result",
          "data": {
            "text/plain": [
              "'[CLS] 아니.는키 키이어?고가도 안은에지'"
            ],
            "application/vnd.google.colaboratory.intrinsic+json": {
              "type": "string"
            }
          },
          "metadata": {},
          "execution_count": 90
        }
      ],
      "source": [
        "# token 바구니\n",
        "N_count = []\n",
        "\n",
        "# 필요 문장 추출\n",
        "N_intent = ['(표현) 부정감정 표현하기', '(단언) 반박하기', '(언약) 거절하기', '부정']\n",
        "\n",
        "# 필요 문장 구성하는 모든 token 바구니에 넣기\n",
        "for intent in N_intent :\n",
        "    for i in df.loc[(df['intent'] == intent), 'sentence']:\n",
        "        N_count += tokenizer.encode(i)\n",
        "\n",
        "# token 고유값과 개수 / N_uni[0] = 고유값 리스트 / N_uni[1] = 고유값 개수 리스트\n",
        "N_uni = np.unique(N_count, return_counts=True)\n",
        "\n",
        "# 고유값 개수 내림차순 정렬\n",
        "N_cnt = sorted(list(set(N_uni[1])),reverse=True)\n",
        "\n",
        "# N_many = N_uni[0]에서 검색할 index값 / N_token = 사용 횟수가 많은 token\n",
        "N_many = []\n",
        "N_token = []\n",
        "\n",
        "for i in N_cnt:\n",
        "    if i > 2700 :\n",
        "        N_many.append(list(N_uni[1]).index(i))\n",
        "for j in range(len(N_many)) :\n",
        "    N_token.append(N_uni[0][N_many[j]])\n",
        "print(N_many)\n",
        "\n",
        "tokenizer.decode(N_token)"
      ]
    },
    {
      "cell_type": "code",
      "execution_count": null,
      "metadata": {
        "colab": {
          "base_uri": "https://localhost:8080/",
          "height": 54
        },
        "id": "DLLthAMXc-ZD",
        "outputId": "9f7ea02a-5d5c-4d68-b995-aae4f2355275"
      },
      "outputs": [
        {
          "output_type": "stream",
          "name": "stdout",
          "text": [
            "[1, 851, 12010, 13, 1327, 1067, 1489, 1290, 1356, 1291, 1326, 1405, 1355, 1353, 1312, 862, 16218, 245]\n"
          ]
        },
        {
          "output_type": "execute_result",
          "data": {
            "text/plain": [
              "'[CLS] 응 맞아.키 키는어도이고에지가은 있 응응 나'"
            ],
            "application/vnd.google.colaboratory.intrinsic+json": {
              "type": "string"
            }
          },
          "metadata": {},
          "execution_count": 91
        }
      ],
      "source": [
        "# token 바구니\n",
        "P_count = []\n",
        "\n",
        "# 필요 문장 추출\n",
        "P_intent = ['(표현) 긍정감정 표현하기', '(표현) 감사하기', '긍정']\n",
        "\n",
        "# 필요 문장 구성하는 모든 token 바구니에 넣기\n",
        "for intent in P_intent :\n",
        "    for i in df.loc[(df['intent'] == intent), 'sentence']:\n",
        "        P_count += tokenizer.encode(i)\n",
        "\n",
        "# token 고유값과 개수 / N_uni[0] = 고유값 리스트 / N_uni[1] = 고유값 개수 리스트\n",
        "P_uni = np.unique(P_count, return_counts=True)\n",
        "\n",
        "# 고유값 개수 내림차순 정렬\n",
        "P_cnt = sorted(list(set(P_uni[1])),reverse=True)\n",
        "\n",
        "# N_many = N_uni[0]에서 검색할 index값 / N_token = 사용 횟수가 많은 token\n",
        "P_many = []\n",
        "P_token = []\n",
        "\n",
        "for i in P_cnt:\n",
        "    if i > 7700 :\n",
        "        P_many.append(list(P_uni[1]).index(i))\n",
        "for j in range(len(P_many)) :\n",
        "    P_token.append(P_uni[0][P_many[j]])\n",
        "print(P_many)\n",
        "\n",
        "tokenizer.decode(P_token)"
      ]
    },
    {
      "cell_type": "code",
      "execution_count": null,
      "metadata": {
        "colab": {
          "base_uri": "https://localhost:8080/",
          "height": 54
        },
        "id": "3Qpv00jFc-ZD",
        "outputId": "d50feacb-aac1-4d14-b546-83a308b34627"
      },
      "outputs": [
        {
          "output_type": "stream",
          "name": "stdout",
          "text": [
            "[1, 841, 11838, 13, 1311, 1053, 1473, 1274, 1340, 1275, 1310, 1389, 1339]\n"
          ]
        },
        {
          "output_type": "execute_result",
          "data": {
            "text/plain": [
              "'[CLS] 응 맞아.키 키는어도이고에지'"
            ],
            "application/vnd.google.colaboratory.intrinsic+json": {
              "type": "string"
            }
          },
          "metadata": {},
          "execution_count": 92
        }
      ],
      "source": [
        "# token 바구니\n",
        "M_count = []\n",
        "\n",
        "# 필요 문장 추출\n",
        "M_intent = ['(단언) 진술하기', '(지시) 충고/제안하기', '(단언) 주장하기', '(지시) 질문하기', '(지시) 부탁하기',\n",
        "        '(표현) 사과하기', '(지시) 명령/요구하기', '턴토크 사인(관습적 반응)',\n",
        "       '(언약) 약속하기(제3자와)/(개인적 수준)', '(표현) 인사하기', '(선언/위임하기)']\n",
        "\n",
        "# 필요 문장 구성하는 모든 token 바구니에 넣기\n",
        "for intenti in range(len(M_intent)):\n",
        "    if df.loc[(df['intent'] == intent), 'sentence'].count() > 1000:\n",
        "        for i in (df.loc[(df['intent'] == intent), 'sentence']):\n",
        "            M_count += tokenizer.encode(i)\n",
        "    else:\n",
        "        for i in (df.loc[(df['intent'] == intent), 'sentence']):\n",
        "            M_count += tokenizer.encode(i)\n",
        "\n",
        "# token 고유값과 개수 / N_uni[0] = 고유값 리스트 / N_uni[1] = 고유값 개수 리스트\n",
        "M_uni = np.unique(M_count, return_counts=True)\n",
        "\n",
        "# 고유값 개수 내림차순 정렬\n",
        "M_cnt = sorted(list(set(M_uni[1])),reverse=True)\n",
        "\n",
        "# M_many = N_uni[0]에서 검색할 index값 / M_token = 사용 횟수가 많은 token\n",
        "M_many = []\n",
        "M_token = []\n",
        "\n",
        "for i in M_cnt:\n",
        "    if i > 100000 :\n",
        "        M_many.append(list(M_uni[1]).index(i))\n",
        "for j in range(len(M_many)) :\n",
        "    M_token.append(M_uni[0][M_many[j]])\n",
        "print(M_many)\n",
        "\n",
        "tokenizer.decode(M_token)"
      ]
    },
    {
      "cell_type": "code",
      "execution_count": null,
      "metadata": {
        "colab": {
          "base_uri": "https://localhost:8080/"
        },
        "id": "Pqg5Eswzc-ZE",
        "outputId": "4f1b7fd0-565f-4351-d049-3c5f2dda8dee"
      },
      "outputs": [
        {
          "output_type": "stream",
          "name": "stdout",
          "text": [
            "안? 아니\n",
            "응응 있 나\n"
          ]
        }
      ],
      "source": [
        "# 중복값 제거\n",
        "print(tokenizer.decode((set(N_token).difference(set(P_token))).difference(set(M_token))))\n",
        "print(tokenizer.decode((set(P_token).difference(set(N_token))).difference(set(M_token))))"
      ]
    },
    {
      "cell_type": "code",
      "execution_count": null,
      "metadata": {
        "id": "K5emQt24c-ZE"
      },
      "outputs": [],
      "source": [
        "N_keyword = ['싫어\\.\\.', '아니']\n",
        "P_keyword = ['맞아', '응응', '응\\.', '응,']"
      ]
    },
    {
      "cell_type": "code",
      "execution_count": null,
      "metadata": {
        "id": "xmYrzmYdc-ZE"
      },
      "outputs": [],
      "source": [
        "# 부정키워드 포함 긍정문장 제거\n",
        "for intent in P_intent:\n",
        "    for key in N_keyword:\n",
        "        df.drop(df.loc[(df['intent'] == intent) & df['sentence'].str.contains(key)].index, axis=0, inplace=True)\n",
        "\n",
        "# 긍정키워드 포함 부정문장 제거\n",
        "for intent in N_intent:\n",
        "    for key in P_keyword:\n",
        "        df.drop(df.loc[(df['intent'] == intent) & df['sentence'].str.contains(key)].index, axis=0, inplace=True)\n",
        "\n",
        "# 필요한 데이터를 추출하기 위한 DataFrame 생성\n",
        "temp_df = pd.DataFrame()\n",
        "temp = pd.DataFrame()\n",
        "df_ = copy.deepcopy(df)\n",
        "\n",
        "# 기존 데이터에서 긍정, 부정 문장 제거\n",
        "for intent in (N_intent+P_intent):\n",
        "    df_.drop(df_[df_['intent'] == intent].index, axis=0, inplace=True)\n",
        "\n",
        "# 남은 중립문장 중 필요한만큼 문장 추출\n",
        "temp_df = pd.concat([temp_df,df_.sample(n=130000)], ignore_index=True)\n",
        "\n",
        "# 중립문장 중 긍정/부정 키워드 포함한 문장 제거\n",
        "for key in (N_keyword+P_keyword):\n",
        "    temp_df.drop(temp_df.loc[temp_df['sentence'].str.contains(key)].index, axis=0, inplace=True)"
      ]
    },
    {
      "cell_type": "code",
      "execution_count": null,
      "metadata": {
        "colab": {
          "base_uri": "https://localhost:8080/"
        },
        "id": "D0LyW_USc-ZF",
        "outputId": "683d4663-fa87-468f-cde0-4fb3db270e65"
      },
      "outputs": [
        {
          "output_type": "stream",
          "name": "stdout",
          "text": [
            "(표현) 부정감정 표현하기\n",
            "(단언) 반박하기\n",
            "(언약) 거절하기\n",
            "부정\n",
            "(표현) 긍정감정 표현하기\n",
            "(표현) 감사하기\n",
            "긍정\n",
            "====================================================================================================\n",
            "(표현) 부정감정 표현하기\n",
            "(단언) 반박하기\n",
            "(언약) 거절하기\n",
            "부정\n",
            "(표현) 긍정감정 표현하기\n",
            "(표현) 감사하기\n",
            "긍정\n",
            "(지시) 부탁하기\n",
            "(단언) 진술하기\n",
            "(단언) 주장하기\n",
            "(언약) 약속하기(제3자와)/(개인적 수준)\n",
            "(지시) 충고/제안하기\n",
            "(지시) 질문하기\n",
            "턴토크 사인(관습적 반응)\n",
            "(표현) 인사하기\n",
            "(지시) 명령/요구하기\n",
            "(선언/위임하기)\n",
            "(표현) 사과하기\n",
            "                                        sentence          intent\n",
            "0                       그러니까 키키 하 진짜 너무 한 거 아니냐고  (표현) 부정감정 표현하기\n",
            "1                            자본주의 ㅠ 넘 슬프네요 진짜...  (표현) 부정감정 표현하기\n",
            "2                            그런 아저씨를 데리고 가시다니 ㅠㅠ  (표현) 부정감정 표현하기\n",
            "3                 서울에만 1천 명대가 나왔다는데... 너무 무섭네...  (표현) 부정감정 표현하기\n",
            "4                 음식으로도 많이 장난치던데 그게 제일 화나는 거 같다!  (표현) 부정감정 표현하기\n",
            "...                                          ...             ...\n",
            "228748                               그건 히어로 영화지?       (지시) 질문하기\n",
            "228749                     키키 역시 우린 쥬니어네이버 세대 키키       (단언) 주장하기\n",
            "228750                     버스에서 전화하는 아저씨들... 무서워       (단언) 주장하기\n",
            "228751  나중에 6주 만에 맞은 사람만 부스터샷 맞으라고 하면 나 진짜 욕할 거야       (단언) 주장하기\n",
            "228752                          안전 관리 같은 거라서 의무야       (단언) 진술하기\n",
            "\n",
            "[228753 rows x 2 columns]\n"
          ]
        }
      ],
      "source": [
        "# 필요한만큼 긍정/부정문장 추출\n",
        "for intent in (N_intent+P_intent):\n",
        "    print(intent)\n",
        "    if df.loc[df['intent']==intent, 'intent'].count() > 100000:\n",
        "        temp = pd.concat([temp,df[df['intent'] == intent].sample(n=100000)], ignore_index=True)\n",
        "    # elif df.loc[df['intent']==intent, 'intent'].count() > 10000:\n",
        "    #     temp = pd.concat([temp,df[df['intent'] == intent].sample(n=10000)], ignore_index=True)\n",
        "    else :\n",
        "        temp = pd.concat([temp,df[df['intent'] == intent]], ignore_index=True)\n",
        "\n",
        "temp = pd.concat([temp,temp_df], ignore_index=True)\n",
        "\n",
        "print('='*100)\n",
        "for i in list(temp['intent'].unique()):\n",
        "  print(i)\n",
        "\n",
        "print(temp)\n",
        "\n",
        "temp.loc[(temp['intent'] == '(표현) 부정감정 표현하기')|(temp['intent'] == '(언약) 거절하기')|\n",
        "         (temp['intent'] == '(단언) 반박하기'), 'intent'] = '부정'\n",
        "temp.loc[(temp['intent'] == '(표현) 긍정감정 표현하기')|(temp['intent'] == '(표현) 감사하기'), 'intent'] = '긍정'\n",
        "temp.loc[(temp['intent'] != '부정')&(temp['intent'] != '긍정'), 'intent'] = '중립'"
      ]
    },
    {
      "cell_type": "code",
      "execution_count": null,
      "metadata": {
        "id": "kXFFJsnOc-ZF"
      },
      "outputs": [],
      "source": [
        "fin_df = copy.deepcopy(temp)"
      ]
    },
    {
      "cell_type": "code",
      "execution_count": null,
      "metadata": {
        "colab": {
          "base_uri": "https://localhost:8080/"
        },
        "id": "erhvAH6Pc-ZF",
        "outputId": "97dc66b7-b069-4f64-f1d7-dda22087cda6"
      },
      "outputs": [
        {
          "output_type": "stream",
          "name": "stdout",
          "text": [
            "부정 27522\n",
            "긍정 75827\n",
            "중립 125404\n"
          ]
        }
      ],
      "source": [
        "temp = list(fin_df['intent'].unique())\n",
        "for i in temp :\n",
        "    print(i,fin_df.loc[fin_df['intent']==i,'intent'].count())"
      ]
    },
    {
      "cell_type": "code",
      "execution_count": null,
      "metadata": {
        "colab": {
          "base_uri": "https://localhost:8080/"
        },
        "id": "qJ00xoZ3RrXF",
        "outputId": "b79693ff-c8bd-47d7-a7e5-48c75da84f13"
      },
      "outputs": [
        {
          "output_type": "execute_result",
          "data": {
            "text/plain": [
              "3"
            ]
          },
          "metadata": {},
          "execution_count": 99
        }
      ],
      "source": [
        "# 클래수 개수\n",
        "lable_num = len(fin_df['intent'].unique())\n",
        "lable_num"
      ]
    },
    {
      "cell_type": "code",
      "execution_count": null,
      "metadata": {
        "colab": {
          "base_uri": "https://localhost:8080/",
          "height": 442
        },
        "id": "A4eCP2zgivIz",
        "outputId": "a6d73cb6-2364-4e00-96b5-f22abcbb8971"
      },
      "outputs": [
        {
          "output_type": "stream",
          "name": "stdout",
          "text": [
            "{0: '긍정', 1: '부정', 2: '중립'}\n"
          ]
        },
        {
          "output_type": "execute_result",
          "data": {
            "text/plain": [
              "                                                 sentence intent\n",
              "0                                  키키 아 웃으면 안되는데 개 웃기네 ㅠㅠ      2\n",
              "1                                              디저트는 역시 케잌      2\n",
              "2                                                 난 고슴도치봄      2\n",
              "3       저는 1차때가 더 힘들었어요. 그래도 부장님이 죽 사먹으라고 기프티콘도 보내주시고 ...      0\n",
              "4                                    그럼 피아노 학원 다녀보는 건 어때?      2\n",
              "...                                                   ...    ...\n",
              "228748                    아, 맞네 키키 나도 그거 시즌 1부터 다시 보기나 할까      2\n",
              "228749                                     진주 안와도 산청은 옴 ㅋ      2\n",
              "228750                       응 키키 가서 낚시나 수영을 즐길 수 있다고 하더라      0\n",
              "228751                                          글램핑 하고 싶다      2\n",
              "228752                                             웅 베리든든      0\n",
              "\n",
              "[228753 rows x 2 columns]"
            ],
            "text/html": [
              "\n",
              "\n",
              "  <div id=\"df-4e93728b-c14b-4eeb-bb0b-1c8c2f4c25da\">\n",
              "    <div class=\"colab-df-container\">\n",
              "      <div>\n",
              "<style scoped>\n",
              "    .dataframe tbody tr th:only-of-type {\n",
              "        vertical-align: middle;\n",
              "    }\n",
              "\n",
              "    .dataframe tbody tr th {\n",
              "        vertical-align: top;\n",
              "    }\n",
              "\n",
              "    .dataframe thead th {\n",
              "        text-align: right;\n",
              "    }\n",
              "</style>\n",
              "<table border=\"1\" class=\"dataframe\">\n",
              "  <thead>\n",
              "    <tr style=\"text-align: right;\">\n",
              "      <th></th>\n",
              "      <th>sentence</th>\n",
              "      <th>intent</th>\n",
              "    </tr>\n",
              "  </thead>\n",
              "  <tbody>\n",
              "    <tr>\n",
              "      <th>0</th>\n",
              "      <td>키키 아 웃으면 안되는데 개 웃기네 ㅠㅠ</td>\n",
              "      <td>2</td>\n",
              "    </tr>\n",
              "    <tr>\n",
              "      <th>1</th>\n",
              "      <td>디저트는 역시 케잌</td>\n",
              "      <td>2</td>\n",
              "    </tr>\n",
              "    <tr>\n",
              "      <th>2</th>\n",
              "      <td>난 고슴도치봄</td>\n",
              "      <td>2</td>\n",
              "    </tr>\n",
              "    <tr>\n",
              "      <th>3</th>\n",
              "      <td>저는 1차때가 더 힘들었어요. 그래도 부장님이 죽 사먹으라고 기프티콘도 보내주시고 ...</td>\n",
              "      <td>0</td>\n",
              "    </tr>\n",
              "    <tr>\n",
              "      <th>4</th>\n",
              "      <td>그럼 피아노 학원 다녀보는 건 어때?</td>\n",
              "      <td>2</td>\n",
              "    </tr>\n",
              "    <tr>\n",
              "      <th>...</th>\n",
              "      <td>...</td>\n",
              "      <td>...</td>\n",
              "    </tr>\n",
              "    <tr>\n",
              "      <th>228748</th>\n",
              "      <td>아, 맞네 키키 나도 그거 시즌 1부터 다시 보기나 할까</td>\n",
              "      <td>2</td>\n",
              "    </tr>\n",
              "    <tr>\n",
              "      <th>228749</th>\n",
              "      <td>진주 안와도 산청은 옴 ㅋ</td>\n",
              "      <td>2</td>\n",
              "    </tr>\n",
              "    <tr>\n",
              "      <th>228750</th>\n",
              "      <td>응 키키 가서 낚시나 수영을 즐길 수 있다고 하더라</td>\n",
              "      <td>0</td>\n",
              "    </tr>\n",
              "    <tr>\n",
              "      <th>228751</th>\n",
              "      <td>글램핑 하고 싶다</td>\n",
              "      <td>2</td>\n",
              "    </tr>\n",
              "    <tr>\n",
              "      <th>228752</th>\n",
              "      <td>웅 베리든든</td>\n",
              "      <td>0</td>\n",
              "    </tr>\n",
              "  </tbody>\n",
              "</table>\n",
              "<p>228753 rows × 2 columns</p>\n",
              "</div>\n",
              "      <button class=\"colab-df-convert\" onclick=\"convertToInteractive('df-4e93728b-c14b-4eeb-bb0b-1c8c2f4c25da')\"\n",
              "              title=\"Convert this dataframe to an interactive table.\"\n",
              "              style=\"display:none;\">\n",
              "\n",
              "  <svg xmlns=\"http://www.w3.org/2000/svg\" height=\"24px\"viewBox=\"0 0 24 24\"\n",
              "       width=\"24px\">\n",
              "    <path d=\"M0 0h24v24H0V0z\" fill=\"none\"/>\n",
              "    <path d=\"M18.56 5.44l.94 2.06.94-2.06 2.06-.94-2.06-.94-.94-2.06-.94 2.06-2.06.94zm-11 1L8.5 8.5l.94-2.06 2.06-.94-2.06-.94L8.5 2.5l-.94 2.06-2.06.94zm10 10l.94 2.06.94-2.06 2.06-.94-2.06-.94-.94-2.06-.94 2.06-2.06.94z\"/><path d=\"M17.41 7.96l-1.37-1.37c-.4-.4-.92-.59-1.43-.59-.52 0-1.04.2-1.43.59L10.3 9.45l-7.72 7.72c-.78.78-.78 2.05 0 2.83L4 21.41c.39.39.9.59 1.41.59.51 0 1.02-.2 1.41-.59l7.78-7.78 2.81-2.81c.8-.78.8-2.07 0-2.86zM5.41 20L4 18.59l7.72-7.72 1.47 1.35L5.41 20z\"/>\n",
              "  </svg>\n",
              "      </button>\n",
              "\n",
              "\n",
              "\n",
              "    <div id=\"df-184e38c4-770c-4a3c-a312-e5e0e1b4bee0\">\n",
              "      <button class=\"colab-df-quickchart\" onclick=\"quickchart('df-184e38c4-770c-4a3c-a312-e5e0e1b4bee0')\"\n",
              "              title=\"Suggest charts.\"\n",
              "              style=\"display:none;\">\n",
              "\n",
              "<svg xmlns=\"http://www.w3.org/2000/svg\" height=\"24px\"viewBox=\"0 0 24 24\"\n",
              "     width=\"24px\">\n",
              "    <g>\n",
              "        <path d=\"M19 3H5c-1.1 0-2 .9-2 2v14c0 1.1.9 2 2 2h14c1.1 0 2-.9 2-2V5c0-1.1-.9-2-2-2zM9 17H7v-7h2v7zm4 0h-2V7h2v10zm4 0h-2v-4h2v4z\"/>\n",
              "    </g>\n",
              "</svg>\n",
              "      </button>\n",
              "    </div>\n",
              "\n",
              "<style>\n",
              "  .colab-df-quickchart {\n",
              "    background-color: #E8F0FE;\n",
              "    border: none;\n",
              "    border-radius: 50%;\n",
              "    cursor: pointer;\n",
              "    display: none;\n",
              "    fill: #1967D2;\n",
              "    height: 32px;\n",
              "    padding: 0 0 0 0;\n",
              "    width: 32px;\n",
              "  }\n",
              "\n",
              "  .colab-df-quickchart:hover {\n",
              "    background-color: #E2EBFA;\n",
              "    box-shadow: 0px 1px 2px rgba(60, 64, 67, 0.3), 0px 1px 3px 1px rgba(60, 64, 67, 0.15);\n",
              "    fill: #174EA6;\n",
              "  }\n",
              "\n",
              "  [theme=dark] .colab-df-quickchart {\n",
              "    background-color: #3B4455;\n",
              "    fill: #D2E3FC;\n",
              "  }\n",
              "\n",
              "  [theme=dark] .colab-df-quickchart:hover {\n",
              "    background-color: #434B5C;\n",
              "    box-shadow: 0px 1px 3px 1px rgba(0, 0, 0, 0.15);\n",
              "    filter: drop-shadow(0px 1px 2px rgba(0, 0, 0, 0.3));\n",
              "    fill: #FFFFFF;\n",
              "  }\n",
              "</style>\n",
              "\n",
              "    <script>\n",
              "      async function quickchart(key) {\n",
              "        const containerElement = document.querySelector('#' + key);\n",
              "        const charts = await google.colab.kernel.invokeFunction(\n",
              "            'suggestCharts', [key], {});\n",
              "      }\n",
              "    </script>\n",
              "\n",
              "      <script>\n",
              "\n",
              "function displayQuickchartButton(domScope) {\n",
              "  let quickchartButtonEl =\n",
              "    domScope.querySelector('#df-184e38c4-770c-4a3c-a312-e5e0e1b4bee0 button.colab-df-quickchart');\n",
              "  quickchartButtonEl.style.display =\n",
              "    google.colab.kernel.accessAllowed ? 'block' : 'none';\n",
              "}\n",
              "\n",
              "        displayQuickchartButton(document);\n",
              "      </script>\n",
              "      <style>\n",
              "    .colab-df-container {\n",
              "      display:flex;\n",
              "      flex-wrap:wrap;\n",
              "      gap: 12px;\n",
              "    }\n",
              "\n",
              "    .colab-df-convert {\n",
              "      background-color: #E8F0FE;\n",
              "      border: none;\n",
              "      border-radius: 50%;\n",
              "      cursor: pointer;\n",
              "      display: none;\n",
              "      fill: #1967D2;\n",
              "      height: 32px;\n",
              "      padding: 0 0 0 0;\n",
              "      width: 32px;\n",
              "    }\n",
              "\n",
              "    .colab-df-convert:hover {\n",
              "      background-color: #E2EBFA;\n",
              "      box-shadow: 0px 1px 2px rgba(60, 64, 67, 0.3), 0px 1px 3px 1px rgba(60, 64, 67, 0.15);\n",
              "      fill: #174EA6;\n",
              "    }\n",
              "\n",
              "    [theme=dark] .colab-df-convert {\n",
              "      background-color: #3B4455;\n",
              "      fill: #D2E3FC;\n",
              "    }\n",
              "\n",
              "    [theme=dark] .colab-df-convert:hover {\n",
              "      background-color: #434B5C;\n",
              "      box-shadow: 0px 1px 3px 1px rgba(0, 0, 0, 0.15);\n",
              "      filter: drop-shadow(0px 1px 2px rgba(0, 0, 0, 0.3));\n",
              "      fill: #FFFFFF;\n",
              "    }\n",
              "  </style>\n",
              "\n",
              "      <script>\n",
              "        const buttonEl =\n",
              "          document.querySelector('#df-4e93728b-c14b-4eeb-bb0b-1c8c2f4c25da button.colab-df-convert');\n",
              "        buttonEl.style.display =\n",
              "          google.colab.kernel.accessAllowed ? 'block' : 'none';\n",
              "\n",
              "        async function convertToInteractive(key) {\n",
              "          const element = document.querySelector('#df-4e93728b-c14b-4eeb-bb0b-1c8c2f4c25da');\n",
              "          const dataTable =\n",
              "            await google.colab.kernel.invokeFunction('convertToInteractive',\n",
              "                                                     [key], {});\n",
              "          if (!dataTable) return;\n",
              "\n",
              "          const docLinkHtml = 'Like what you see? Visit the ' +\n",
              "            '<a target=\"_blank\" href=https://colab.research.google.com/notebooks/data_table.ipynb>data table notebook</a>'\n",
              "            + ' to learn more about interactive tables.';\n",
              "          element.innerHTML = '';\n",
              "          dataTable['output_type'] = 'display_data';\n",
              "          await google.colab.output.renderOutput(dataTable, element);\n",
              "          const docLink = document.createElement('div');\n",
              "          docLink.innerHTML = docLinkHtml;\n",
              "          element.appendChild(docLink);\n",
              "        }\n",
              "      </script>\n",
              "    </div>\n",
              "  </div>\n"
            ]
          },
          "metadata": {},
          "execution_count": 100
        }
      ],
      "source": [
        "label_dict = {0: '긍정', 1: '부정', 2: '중립'}\n",
        "\n",
        "for idx, intent_lab in label_dict.items() :\n",
        "    fin_df.loc[fin_df['intent'] == intent_lab, 'intent'] = idx\n",
        "\n",
        "print(label_dict)\n",
        "fin_df = fin_df.sample(frac=1).reset_index(drop=True)\n",
        "fin_df"
      ]
    },
    {
      "cell_type": "code",
      "execution_count": null,
      "metadata": {
        "colab": {
          "base_uri": "https://localhost:8080/"
        },
        "id": "Kiw-yqCbivI0",
        "outputId": "8236e231-c8d7-4ea7-93b4-78a2ff1f80c4"
      },
      "outputs": [
        {
          "output_type": "stream",
          "name": "stdout",
          "text": [
            "                                                 sentence intent\n",
            "0                                  키키 아 웃으면 안되는데 개 웃기네 ㅠㅠ      2\n",
            "1                                              디저트는 역시 케잌      2\n",
            "2                                                 난 고슴도치봄      2\n",
            "3       저는 1차때가 더 힘들었어요. 그래도 부장님이 죽 사먹으라고 기프티콘도 보내주시고 ...      0\n",
            "4                                    그럼 피아노 학원 다녀보는 건 어때?      2\n",
            "...                                                   ...    ...\n",
            "182998                                   키키 엥 진짜? 왜 안 했어?      2\n",
            "182999                                그쵸 태연이 모델을 해서 그런가봐요      2\n",
            "183000                           맞아, 나도 그런데 생각해 본 적 있긴 해.      0\n",
            "183001                                    맞어 이번주 내가 빌려줄까?      0\n",
            "183002                                             아니 검정색      1\n",
            "\n",
            "[183003 rows x 2 columns]\n"
          ]
        }
      ],
      "source": [
        "train_data = pd.DataFrame()\n",
        "\n",
        "len_ = fin_df['intent'].count()\n",
        "\n",
        "train_data = pd.concat([train_data,fin_df.loc[:(len_*8)/10]],ignore_index=True)\n",
        "print(train_data)"
      ]
    },
    {
      "cell_type": "code",
      "execution_count": null,
      "metadata": {
        "colab": {
          "base_uri": "https://localhost:8080/"
        },
        "id": "Su9DTBRMoXcI",
        "outputId": "54f64c90-6886-4f96-b44c-951f0810e138"
      },
      "outputs": [
        {
          "output_type": "stream",
          "name": "stdout",
          "text": [
            "                                     sentence intent\n",
            "0      아니 언니랑 공짜 영화 티켓 생겨 가지고 영화관에 영화 보러 왔거든?      1\n",
            "1                                 진해에는 뭐가 있어?      2\n",
            "2                 게임 시작한지 1분도 안돼서 죽는 사람보다는 낫다      2\n",
            "3                                  맞어 그맛에 갔는데      0\n",
            "4                         서울에서 꽤 가까워서 가는길이 편해      2\n",
            "...                                       ...    ...\n",
            "45745         아, 맞네 키키 나도 그거 시즌 1부터 다시 보기나 할까      2\n",
            "45746                          진주 안와도 산청은 옴 ㅋ      2\n",
            "45747            응 키키 가서 낚시나 수영을 즐길 수 있다고 하더라      0\n",
            "45748                               글램핑 하고 싶다      2\n",
            "45749                                  웅 베리든든      0\n",
            "\n",
            "[45750 rows x 2 columns]\n"
          ]
        }
      ],
      "source": [
        "test_data = pd.DataFrame()\n",
        "\n",
        "len_ = fin_df['intent'].count()\n",
        "\n",
        "test_data = pd.concat([test_data,fin_df.loc[(len_*8)/10:]],ignore_index=True)\n",
        "print(test_data)"
      ]
    },
    {
      "cell_type": "code",
      "execution_count": null,
      "metadata": {
        "colab": {
          "base_uri": "https://localhost:8080/"
        },
        "id": "fL0xFDtcivI0",
        "outputId": "8db4e551-0f03-427e-b571-0962ae90ef63"
      },
      "outputs": [
        {
          "output_type": "stream",
          "name": "stdout",
          "text": [
            "100\n",
            "문 장1 : 키키 아 웃으면 안되는데 개 웃기네 ㅠㅠ\n"
          ]
        }
      ],
      "source": [
        "max_seq_len = max(df['sentence'].apply(lambda x: len(str(x))))\n",
        "\n",
        "sent1 = train_data['sentence'].iloc[0]\n",
        "print(max_seq_len)\n",
        "print('문 장1 :',sent1)"
      ]
    },
    {
      "cell_type": "code",
      "execution_count": null,
      "metadata": {
        "colab": {
          "base_uri": "https://localhost:8080/"
        },
        "id": "X-9AZdytivI0",
        "outputId": "87598214-6cf4-4a48-f97e-9d39d5239624"
      },
      "outputs": [
        {
          "output_type": "stream",
          "name": "stderr",
          "text": [
            "Truncation was not explicitly activated but `max_length` is provided a specific value, please use `truncation=True` to explicitly truncate examples to max length. Defaulting to 'longest_first' truncation strategy. If you encode pairs of sequences (GLUE-style) with the tokenizer you can select this strategy more precisely by providing a specific strategy to `truncation`.\n"
          ]
        },
        {
          "output_type": "stream",
          "name": "stdout",
          "text": [
            "[2, 1754, 2089, 1376, 1474, 6076, 1378, 2496, 13964, 558, 12494, 2203, 6516, 3, 0, 0, 0, 0, 0, 0, 0, 0, 0, 0, 0, 0, 0, 0, 0, 0, 0, 0, 0, 0, 0, 0, 0, 0, 0, 0, 0, 0, 0, 0, 0, 0, 0, 0, 0, 0, 0, 0, 0, 0, 0, 0, 0, 0, 0, 0, 0, 0, 0, 0, 0, 0, 0, 0, 0, 0, 0, 0, 0, 0, 0, 0, 0, 0, 0, 0, 0, 0, 0, 0, 0, 0, 0, 0, 0, 0, 0, 0, 0, 0, 0, 0, 0, 0, 0, 0]\n",
            "길 이 : 100\n"
          ]
        }
      ],
      "source": [
        "# 정수인코딩\n",
        "encoded_result = tokenizer.encode(sent1,max_length=max_seq_len, pad_to_max_length=True)\n",
        "print(encoded_result)\n",
        "print('길 이 :', len(encoded_result))"
      ]
    },
    {
      "cell_type": "code",
      "execution_count": null,
      "metadata": {
        "colab": {
          "base_uri": "https://localhost:8080/"
        },
        "id": "Kz0dGmpkivI1",
        "outputId": "21c677ae-8b64-4325-f330-94e3d7b6d9db"
      },
      "outputs": [
        {
          "output_type": "stream",
          "name": "stdout",
          "text": [
            "[0, 0, 0, 0, 0, 0, 0, 0, 0, 0, 0, 0, 0, 0, 0, 0, 0, 0, 0, 0, 0, 0, 0, 0, 0, 0, 0, 0, 0, 0, 0, 0, 0, 0, 0, 0, 0, 0, 0, 0, 0, 0, 0, 0, 0, 0, 0, 0, 0, 0, 0, 0, 0, 0, 0, 0, 0, 0, 0, 0, 0, 0, 0, 0, 0, 0, 0, 0, 0, 0, 0, 0, 0, 0, 0, 0, 0, 0, 0, 0, 0, 0, 0, 0, 0, 0, 0, 0, 0, 0, 0, 0, 0, 0, 0, 0, 0, 0, 0, 0]\n"
          ]
        }
      ],
      "source": [
        "# 세그멘트인코딩\n",
        "print([0]*max_seq_len)"
      ]
    },
    {
      "cell_type": "code",
      "execution_count": null,
      "metadata": {
        "colab": {
          "base_uri": "https://localhost:8080/"
        },
        "id": "HD9XCiqHivI1",
        "outputId": "5e43266a-f029-4374-dbe8-575ee832fe2e"
      },
      "outputs": [
        {
          "output_type": "stream",
          "name": "stdout",
          "text": [
            "[1, 1, 1, 1, 1, 1, 1, 1, 1, 1, 1, 1, 1, 1, 0, 0, 0, 0, 0, 0, 0, 0, 0, 0, 0, 0, 0, 0, 0, 0, 0, 0, 0, 0, 0, 0, 0, 0, 0, 0, 0, 0, 0, 0, 0, 0, 0, 0, 0, 0, 0, 0, 0, 0, 0, 0, 0, 0, 0, 0, 0, 0, 0, 0, 0, 0, 0, 0, 0, 0, 0, 0, 0, 0, 0, 0, 0, 0, 0, 0, 0, 0, 0, 0, 0, 0, 0, 0, 0, 0, 0, 0, 0, 0, 0, 0, 0, 0, 0, 0]\n"
          ]
        }
      ],
      "source": [
        "# 어텐션마스크인코딩\n",
        "valid_num = len(tokenizer.encode(sent1))\n",
        "print(valid_num * [1] + (max_seq_len - valid_num) * [0])"
      ]
    },
    {
      "cell_type": "code",
      "execution_count": null,
      "metadata": {
        "id": "wbVNVsL4ivI1"
      },
      "outputs": [],
      "source": [
        "def convert_examples_to_features(examples, labels, max_seq_len, tokenizer):\n",
        "\n",
        "    input_ids, attention_masks, token_type_ids, data_labels = [], [], [], []\n",
        "\n",
        "    for example, label in tqdm(zip(examples, labels), total=len(examples)):\n",
        "        # input_id는 워드임베딩을 위한 문장의 정수인코딩\n",
        "        input_id = tokenizer.encode(example, max_length=max_seq_len, pad_to_max_length=True)\n",
        "\n",
        "        # attention_mask는 실제단어가 위치하면 1, 패딩의 위치에는 0인 시퀀스.\n",
        "        padding_count = input_id.count(tokenizer.pad_token_id)\n",
        "        attention_mask = [1] * (max_seq_len - padding_count) + [0] * padding_count\n",
        "\n",
        "        # token_type_id은 세그먼트인코딩\n",
        "        token_type_id = [0] * max_seq_len\n",
        "\n",
        "        assert len(input_id) == max_seq_len, \"Error with input length {} vs {}\".format(len(input_id), max_seq_len)\n",
        "        assert len(attention_mask) == max_seq_len, \"Error with attention masklength {} vs {}\".format(len(attention_mask), max_seq_len)\n",
        "        assert len(token_type_id) == max_seq_len, \"Error with token type length{} vs {}\".format(len(token_type_id), max_seq_len)\n",
        "\n",
        "        input_ids.append(input_id)\n",
        "        attention_masks.append(attention_mask)\n",
        "        token_type_ids.append(token_type_id)\n",
        "        data_labels.append(label)\n",
        "\n",
        "    input_ids = np.array(input_ids, dtype=int)\n",
        "    attention_masks = np.array(attention_masks, dtype=int)\n",
        "    token_type_ids = np.array(token_type_ids, dtype=int)\n",
        "\n",
        "    data_labels = np.asarray(data_labels, dtype=np.int32)\n",
        "\n",
        "    return (input_ids, attention_masks, token_type_ids), data_labels"
      ]
    },
    {
      "cell_type": "code",
      "execution_count": null,
      "metadata": {
        "colab": {
          "base_uri": "https://localhost:8080/"
        },
        "id": "ojORc4IFivI1",
        "outputId": "2dabbac1-0410-4a44-9ba7-e7222d456c38"
      },
      "outputs": [
        {
          "output_type": "stream",
          "name": "stderr",
          "text": [
            "100%|██████████| 183003/183003 [00:35<00:00, 5227.09it/s]\n"
          ]
        }
      ],
      "source": [
        "train_X, train_y = convert_examples_to_features(train_data['sentence'], train_data['intent'],\n",
        "                                              max_seq_len=max_seq_len, tokenizer=tokenizer)"
      ]
    },
    {
      "cell_type": "code",
      "execution_count": null,
      "metadata": {
        "colab": {
          "base_uri": "https://localhost:8080/"
        },
        "id": "_K9jSOSwivI1",
        "outputId": "9181065c-09e2-436d-ed44-b50bb2c2aa1e"
      },
      "outputs": [
        {
          "output_type": "stream",
          "name": "stderr",
          "text": [
            "100%|██████████| 45750/45750 [00:08<00:00, 5107.95it/s]\n"
          ]
        }
      ],
      "source": [
        "test_X, test_y = convert_examples_to_features(test_data['sentence'], test_data['intent'],\n",
        "                                              max_seq_len=max_seq_len, tokenizer=tokenizer)"
      ]
    },
    {
      "cell_type": "code",
      "execution_count": null,
      "metadata": {
        "colab": {
          "base_uri": "https://localhost:8080/"
        },
        "id": "IFrRthhJivI2",
        "outputId": "90aba148-6565-4af4-a3e9-17101cc16c49"
      },
      "outputs": [
        {
          "output_type": "stream",
          "name": "stderr",
          "text": [
            "Some weights of the PyTorch model were not used when initializing the TF 2.0 model TFBertForSequenceClassification: ['bert.embeddings.position_ids']\n",
            "- This IS expected if you are initializing TFBertForSequenceClassification from a PyTorch model trained on another task or with another architecture (e.g. initializing a TFBertForSequenceClassification model from a BertForPreTraining model).\n",
            "- This IS NOT expected if you are initializing TFBertForSequenceClassification from a PyTorch model that you expect to be exactly identical (e.g. initializing a TFBertForSequenceClassification model from a BertForSequenceClassification model).\n",
            "Some weights or buffers of the TF 2.0 model TFBertForSequenceClassification were not initialized from the PyTorch model and are newly initialized: ['classifier.weight', 'classifier.bias']\n",
            "You should probably TRAIN this model on a down-stream task to be able to use it for predictions and inference.\n"
          ]
        }
      ],
      "source": [
        "optimizer = tf.keras.optimizers.Adam(learning_rate=5e-5)\n",
        "model = TFBertForSequenceClassification.from_pretrained(\"klue/bert-base\", num_labels=lable_num, from_pt=True)\n",
        "model.compile(optimizer=optimizer, loss=model.hf_compute_loss, metrics=['accuracy'])"
      ]
    },
    {
      "cell_type": "code",
      "execution_count": null,
      "metadata": {
        "colab": {
          "base_uri": "https://localhost:8080/"
        },
        "id": "-r3BZ9nLivI2",
        "outputId": "ada3ff0c-05da-4cfa-a727-1e31a02b2e0d"
      },
      "outputs": [
        {
          "output_type": "stream",
          "name": "stdout",
          "text": [
            "Epoch 1/4\n",
            "1144/1144 [==============================] - 365s 280ms/step - loss: 0.1897 - accuracy: 0.9366 - val_loss: 0.1679 - val_accuracy: 0.9431\n",
            "Epoch 2/4\n",
            "1144/1144 [==============================] - 308s 269ms/step - loss: 0.1533 - accuracy: 0.9454 - val_loss: 0.1702 - val_accuracy: 0.9446\n",
            "Epoch 3/4\n",
            "1144/1144 [==============================] - 308s 269ms/step - loss: 0.1228 - accuracy: 0.9527 - val_loss: 0.1818 - val_accuracy: 0.9390\n",
            "Epoch 4/4\n",
            "1144/1144 [==============================] - 308s 269ms/step - loss: 0.0820 - accuracy: 0.9679 - val_loss: 0.2252 - val_accuracy: 0.9286\n"
          ]
        },
        {
          "output_type": "execute_result",
          "data": {
            "text/plain": [
              "<keras.callbacks.History at 0x7f55bdaf6110>"
            ]
          },
          "metadata": {},
          "execution_count": 111
        }
      ],
      "source": [
        "model.fit(train_X, train_y, epochs=4, batch_size=128, validation_split=0.2)"
      ]
    },
    {
      "cell_type": "code",
      "execution_count": null,
      "metadata": {
        "id": "2W1p9gcJivI2",
        "colab": {
          "base_uri": "https://localhost:8080/"
        },
        "outputId": "e4f2efad-f6aa-4fce-883c-fc367fd16e02"
      },
      "outputs": [
        {
          "output_type": "stream",
          "name": "stdout",
          "text": [
            "715/715 [==============================] - 38s 53ms/step - loss: 0.2238 - accuracy: 0.9285\n",
            "test loss, test acc:  [0.22375456988811493, 0.9285027384757996]\n"
          ]
        }
      ],
      "source": [
        "results = model.evaluate(test_X, test_y, batch_size=64)\n",
        "print(\"test loss, test acc: \", results)"
      ]
    },
    {
      "cell_type": "code",
      "execution_count": null,
      "metadata": {
        "id": "09Y1pSHxivI2"
      },
      "outputs": [],
      "source": [
        "def sentiment_predict(new_sentence):\n",
        "    input_id = tokenizer.encode(new_sentence, max_length=max_seq_len, pad_to_max_length=True)\n",
        "\n",
        "    padding_count = input_id.count(tokenizer.pad_token_id)\n",
        "    attention_mask = [1] * (max_seq_len - padding_count) + [0] * padding_count\n",
        "    token_type_id = [0] * max_seq_len\n",
        "\n",
        "    input_ids = np.array([input_id])\n",
        "    attention_masks = np.array([attention_mask])\n",
        "    token_type_ids = np.array([token_type_id])\n",
        "\n",
        "    encoded_input = [input_ids, attention_masks, token_type_ids]\n",
        "\n",
        "    score = np.argmax(model.predict(encoded_input)[0])\n",
        "\n",
        "    print('sentence :',new_sentence)\n",
        "    print(label_dict[score])"
      ]
    },
    {
      "cell_type": "code",
      "execution_count": null,
      "metadata": {
        "id": "EUicj3_uivI2",
        "colab": {
          "base_uri": "https://localhost:8080/"
        },
        "outputId": "18dc77bf-be3c-4152-93a7-bfc1e2005aee"
      },
      "outputs": [
        {
          "output_type": "stream",
          "name": "stdout",
          "text": [
            "/content/Drive/MyDrive/NP_classifier/NP_classifier\n",
            "/content/Drive/MyDrive/NP_classifier/NP_classifier -- Folder create complete \n",
            "\n"
          ]
        },
        {
          "output_type": "execute_result",
          "data": {
            "text/plain": [
              "('/content/Drive/MyDrive/NP_classifier/NP_classifier/tokenizer_config.json',\n",
              " '/content/Drive/MyDrive/NP_classifier/NP_classifier/special_tokens_map.json',\n",
              " '/content/Drive/MyDrive/NP_classifier/NP_classifier/vocab.txt',\n",
              " '/content/Drive/MyDrive/NP_classifier/NP_classifier/added_tokens.json')"
            ]
          },
          "metadata": {},
          "execution_count": 117
        }
      ],
      "source": [
        "MODEL_SAVE_PATH = os.path.join(\"/content/Drive/MyDrive/NP_classifier/NP_classifier\")\n",
        "print(MODEL_SAVE_PATH)\n",
        "\n",
        "if os.path.exists(MODEL_SAVE_PATH):\n",
        "    print(f\"{MODEL_SAVE_PATH} -- Folder already exists \\n\")\n",
        "\n",
        "else:\n",
        "    os.makedirs(MODEL_SAVE_PATH, exist_ok=True)\n",
        "    print(f\"{MODEL_SAVE_PATH} -- Folder create complete \\n\")\n",
        "\n",
        "model.save_pretrained(MODEL_SAVE_PATH)\n",
        "tokenizer.save_pretrained(MODEL_SAVE_PATH)"
      ]
    },
    {
      "cell_type": "code",
      "execution_count": null,
      "metadata": {
        "id": "1InHBDrNivI2",
        "colab": {
          "base_uri": "https://localhost:8080/"
        },
        "outputId": "e274762d-3d65-4a7a-92bc-aca4bafcd4b6"
      },
      "outputs": [
        {
          "output_type": "stream",
          "name": "stdout",
          "text": [
            "sentence > 인공지능 재미있네!\n",
            "1/1 [==============================] - 0s 43ms/step\n",
            "sentence : 인공지능 재미있네!\n",
            "긍정\n"
          ]
        }
      ],
      "source": [
        "new_sentence = input('sentence > ')\n",
        "sentiment_predict(new_sentence)"
      ]
    },
    {
      "cell_type": "code",
      "source": [],
      "metadata": {
        "id": "bFCDr-yMvW2X"
      },
      "execution_count": null,
      "outputs": []
    }
  ],
  "metadata": {
    "accelerator": "GPU",
    "colab": {
      "machine_shape": "hm",
      "provenance": [],
      "gpuType": "A100",
      "gpuClass": "premium"
    },
    "gpuClass": "premium",
    "kernelspec": {
      "display_name": "Python 3",
      "name": "python3"
    },
    "language_info": {
      "codemirror_mode": {
        "name": "ipython",
        "version": 3
      },
      "file_extension": ".py",
      "mimetype": "text/x-python",
      "name": "python",
      "nbconvert_exporter": "python",
      "pygments_lexer": "ipython3",
      "version": "3.10.10"
    }
  },
  "nbformat": 4,
  "nbformat_minor": 0
}