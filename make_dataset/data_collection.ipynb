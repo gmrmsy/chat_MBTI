{
 "cells": [
  {
   "cell_type": "code",
   "execution_count": 4,
   "metadata": {},
   "outputs": [],
   "source": [
    "import os, json, copy\n",
    "import pandas as pd\n",
    "from tqdm import tqdm"
   ]
  },
  {
   "attachments": {},
   "cell_type": "markdown",
   "metadata": {},
   "source": [
    "### 대화_데이터셋"
   ]
  },
  {
   "cell_type": "code",
   "execution_count": null,
   "metadata": {},
   "outputs": [],
   "source": [
    "path_2 = '주제별 텍스트 일상 대화 데이터/'\n",
    "file_list_2 = os.listdir(path_2)\n",
    "\n",
    "\n",
    "li = []\n",
    "for i in tqdm(range(len(file_list_2))):\n",
    "    folder = file_list_2[i]\n",
    "\n",
    "    path_1 = '주제별 텍스트 일상 대화 데이터/'+folder+'/'\n",
    "    file_list_1 = os.listdir(path_1)\n",
    "\n",
    "    for n in range(len(file_list_1)):\n",
    "        with open(path_1+file_list_1[n], 'r', encoding='utf-8') as file:\n",
    "            temp_data = json.load(file)\n",
    "            li.append(temp_data)"
   ]
  },
  {
   "cell_type": "code",
   "execution_count": 6,
   "metadata": {},
   "outputs": [],
   "source": [
    "def preprocessing_list(x):\n",
    "    dial_list = x['info'][0]['annotations']['text'].split('\\n')\n",
    "    temp_list = []; cnt = 0\n",
    "    temp_list = copy.deepcopy(dial_list)\n",
    "    for i in range(len(dial_list)):\n",
    "        i -= cnt\n",
    "        if temp_list[i][0] not in ['1','2','3','4','5'] :\n",
    "            print(x['dataset']['name'])\n",
    "            temp_list[i-1] += temp_list[i].lstrip()\n",
    "            temp_list.pop(i); cnt += 1\n",
    "    return temp_list"
   ]
  },
  {
   "cell_type": "code",
   "execution_count": null,
   "metadata": {},
   "outputs": [],
   "source": [
    "dialog = pd.DataFrame(columns=['Q','Q_intent', 'A', 'A_intent'])\n",
    "\n",
    "for i in tqdm(range(len(li))):\n",
    "    sen = preprocessing_list(li[i])\n",
    "    intent = li[i]['info'][0]['annotations']['lines']\n",
    "    for j in range(len(sen)):\n",
    "        if len(sen) != len(intent):\n",
    "            print(f\"len(sen) != len(intent) : {li[i]['dataset']['name']}\")\n",
    "            break\n",
    "        else :\n",
    "            for k in range(1,6):\n",
    "                if j+k >= len(sen)-1:\n",
    "                    break\n",
    "                elif sen[j][0] == sen[j+k][0]:\n",
    "                    break\n",
    "\n",
    "                if intent[j]['speechAct'] != intent[j+k]['speechAct']:\n",
    "                    # dialog = pd.concat([dialog,pd.DataFrame({'Q' : [sen[j].split(':')[-1].lstrip()], 'Q_intent' : intent[j]['speechAct'], 'A' : [sen[j+k].split(':')[-1].lstrip()], 'A_intent' : intent[j+k]['speechAct']})],ignore_index=True)\n",
    "                    try:\n",
    "                        dialog = pd.concat([dialog,pd.DataFrame({'Q' : [sen[j].split(':')[-1].lstrip()],\n",
    "                                                                 'Q_intent' : intent[j]['speechAct'],\n",
    "                                                                 'A' : [sen[j+k].split(':')[-1].lstrip()],\n",
    "                                                                 'A_intent' : intent[j+k]['speechAct']})], ignore_index=True)\n",
    "                    except :\n",
    "                        print(li[i]['dataset']['name'])\n",
    "                        print(f'대화번호i:{i} / 문장번호j:{j} / 쌍번호k:{k}')\n",
    "dialog"
   ]
  },
  {
   "cell_type": "code",
   "execution_count": null,
   "metadata": {},
   "outputs": [],
   "source": [
    "dialog.to_csv('dataset/dialog_chatbot_source.csv')"
   ]
  },
  {
   "cell_type": "code",
   "execution_count": null,
   "metadata": {},
   "outputs": [],
   "source": [
    "temp_df = pd.read_csv('dataset/dialog_chatbot_source.csv')\n",
    "temp_df.drop(['Unnamed: 0'], axis=1, inplace=True)\n",
    "temp_df.dropna(inplace=True)\n",
    "temp_df.to_csv('dataset/dialog_chatbot.csv')"
   ]
  },
  {
   "attachments": {},
   "cell_type": "markdown",
   "metadata": {},
   "source": [
    "### 감성분류/의도분류 데이터셋"
   ]
  },
  {
   "cell_type": "code",
   "execution_count": null,
   "metadata": {},
   "outputs": [],
   "source": [
    "dialog = pd.read_csv('dataset/dialog_chatbot.csv')"
   ]
  },
  {
   "cell_type": "code",
   "execution_count": null,
   "metadata": {},
   "outputs": [],
   "source": [
    "intent_model = pd.DataFrame(columns=['sentence','intent'])\n",
    "Q_temp_sen = pd.DataFrame()\n",
    "Q_temp_int = pd.DataFrame()\n",
    "Q_temp_sen['sentence'] = dialog['Q']\n",
    "Q_temp_int['intent'] = dialog['Q_intent']\n",
    "Q_temp = pd.concat([Q_temp_sen,Q_temp_int], axis=1)\n",
    "\n",
    "A_temp_sen = pd.DataFrame()\n",
    "A_temp_int = pd.DataFrame()\n",
    "A_temp_sen['sentence'] = dialog['A']\n",
    "A_temp_int['intent'] = dialog['A_intent']\n",
    "A_temp = pd.concat([A_temp_sen,A_temp_int], axis=1)\n",
    "\n",
    "intent_model = pd.concat([Q_temp,A_temp], ignore_index=True)\n",
    "intent_model.drop(intent_model.loc[intent_model['intent']=='N/A'].index, axis=0, inplace=True)"
   ]
  },
  {
   "cell_type": "code",
   "execution_count": null,
   "metadata": {},
   "outputs": [],
   "source": [
    "intent_model = pd.read_csv('dataset/temp.csv')\n",
    "intent_model.drop(['Unnamed: 0'], axis=1, inplace=True)    # 불필요 column 제거\n",
    "intent_model.dropna(inplace=True)    # 결측치 제거\n",
    "# df.drop(df[df.duplicated()])\n",
    "intent_model.drop(intent_model[intent_model.duplicated()].index, axis=0, inplace=True)    # 중복값 제거\n",
    "intent_model.drop(intent_model[intent_model['intent'] == '(언약) 위협하기'].index, axis=0, inplace=True)    # 불필요 label 제거\n",
    "intent_model.reset_index(drop=True, inplace=True)    # 인덱스 초기화"
   ]
  },
  {
   "cell_type": "code",
   "execution_count": null,
   "metadata": {},
   "outputs": [],
   "source": [
    "intent_model.to_csv('intent_model_dataset.csv')"
   ]
  }
 ],
 "metadata": {
  "kernelspec": {
   "display_name": "Python 3",
   "language": "python",
   "name": "python3"
  },
  "language_info": {
   "codemirror_mode": {
    "name": "ipython",
    "version": 3
   },
   "file_extension": ".py",
   "mimetype": "text/x-python",
   "name": "python",
   "nbconvert_exporter": "python",
   "pygments_lexer": "ipython3",
   "version": "3.10.10"
  },
  "orig_nbformat": 4
 },
 "nbformat": 4,
 "nbformat_minor": 2
}
