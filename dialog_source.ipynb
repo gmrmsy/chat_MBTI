{
 "cells": [
  {
   "cell_type": "code",
   "execution_count": 1,
   "metadata": {},
   "outputs": [],
   "source": [
    "import os, json, copy\n",
    "import pandas as pd\n",
    "from tqdm import tqdm"
   ]
  },
  {
   "cell_type": "code",
   "execution_count": 2,
   "metadata": {},
   "outputs": [
    {
     "name": "stderr",
     "output_type": "stream",
     "text": [
      "100%|██████████| 6/6 [00:07<00:00,  1.17s/it]\n"
     ]
    }
   ],
   "source": [
    "path_2 = '주제별 텍스트 일상 대화 데이터/'\n",
    "file_list_2 = os.listdir(path_2)\n",
    "\n",
    "\n",
    "li = []\n",
    "for i in tqdm(range(len(file_list_2))):\n",
    "    folder = file_list_2[i]\n",
    "\n",
    "    path_1 = '주제별 텍스트 일상 대화 데이터/'+folder+'/'\n",
    "    file_list_1 = os.listdir(path_1)\n",
    "\n",
    "    for n in range(len(file_list_1)):\n",
    "        with open(path_1+file_list_1[n], 'r', encoding='utf-8') as file:\n",
    "            temp_data = json.load(file)\n",
    "            li.append(temp_data)"
   ]
  },
  {
   "cell_type": "code",
   "execution_count": 3,
   "metadata": {},
   "outputs": [],
   "source": [
    "def preprocessing_list(x):\n",
    "    dial_list = x['info'][0]['annotations']['text'].split('\\n')\n",
    "    temp_list = []; cnt = 0\n",
    "    temp_list = copy.deepcopy(dial_list)\n",
    "    for i in range(len(dial_list)):\n",
    "        i -= cnt\n",
    "        if temp_list[i][0] not in ['1','2','3','4','5'] :\n",
    "            temp_list[i-1] += temp_list[i].lstrip()\n",
    "            temp_list.pop(i); cnt += 1\n",
    "    return temp_list"
   ]
  },
  {
   "cell_type": "code",
   "execution_count": 4,
   "metadata": {},
   "outputs": [
    {
     "name": "stderr",
     "output_type": "stream",
     "text": [
      " 13%|█▎        | 3508/26215 [00:51<07:02, 53.72it/s] "
     ]
    },
    {
     "name": "stdout",
     "output_type": "stream",
     "text": [
      "KAKAO_1174_20_set\n",
      "대화번호i:3499 / 문장번호j:22 / 쌍번호k:1\n"
     ]
    },
    {
     "name": "stderr",
     "output_type": "stream",
     "text": [
      " 15%|█▍        | 3876/26215 [01:06<29:50, 12.48it/s]"
     ]
    }
   ],
   "source": [
    "dialog = pd.DataFrame(columns=['Q','Q_intent', 'A', 'A_intent'])\n",
    "\n",
    "for i in tqdm(range(len(li))):\n",
    "    sen = preprocessing_list(li[i])\n",
    "    intent = li[i]['info'][0]['annotations']['lines']\n",
    "    for j in range(len(sen)):\n",
    "        if len(sen) != len(intent):\n",
    "            print(f\"len(sen) != len(intent) : {li[i]['dataset']['name']}\")\n",
    "            break\n",
    "        else :\n",
    "            for k in range(1,6):\n",
    "                if j+k >= len(sen)-1:\n",
    "                    break\n",
    "                elif sen[j][0] == sen[j+k][0]:\n",
    "                    break\n",
    "\n",
    "                if intent[j]['speechAct'] != intent[j+k]['speechAct']:\n",
    "                    # dialog = pd.concat([dialog,pd.DataFrame({'Q' : [sen[j].split(':')[-1].lstrip()], 'Q_intent' : intent[j]['speechAct'], 'A' : [sen[j+k].split(':')[-1].lstrip()], 'A_intent' : intent[j+k]['speechAct']})],ignore_index=True)\n",
    "                    try:\n",
    "                        dialog = pd.concat([dialog,pd.DataFrame({'Q' : [sen[j].split(':')[-1].lstrip()],\n",
    "                                                                 'Q_intent' : intent[j]['speechAct'],\n",
    "                                                                 'A' : [sen[j+k].split(':')[-1].lstrip()],\n",
    "                                                                 'A_intent' : intent[j+k]['speechAct']})], ignore_index=True)\n",
    "                    except :\n",
    "                        print(li[i]['dataset']['name'])\n",
    "                        print(f'대화번호i:{i} / 문장번호j:{j} / 쌍번호k:{k}')\n",
    "dialog"
   ]
  },
  {
   "cell_type": "code",
   "execution_count": 140,
   "metadata": {},
   "outputs": [],
   "source": [
    "dialog.to_csv('dataset/dialog_chatbot_source.csv')"
   ]
  }
 ],
 "metadata": {
  "kernelspec": {
   "display_name": "Python 3",
   "language": "python",
   "name": "python3"
  },
  "language_info": {
   "codemirror_mode": {
    "name": "ipython",
    "version": 3
   },
   "file_extension": ".py",
   "mimetype": "text/x-python",
   "name": "python",
   "nbconvert_exporter": "python",
   "pygments_lexer": "ipython3",
   "version": "3.10.10"
  },
  "orig_nbformat": 4,
  "vscode": {
   "interpreter": {
    "hash": "de47f5c92c0ee6f12a59a5613ac5feff6aab19ddff207ba0b3964cced08c4ccc"
   }
  }
 },
 "nbformat": 4,
 "nbformat_minor": 2
}
